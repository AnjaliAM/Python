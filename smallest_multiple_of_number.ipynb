{
  "nbformat": 4,
  "nbformat_minor": 0,
  "metadata": {
    "colab": {
      "provenance": [],
      "include_colab_link": true
    },
    "kernelspec": {
      "name": "python3",
      "display_name": "Python 3"
    },
    "language_info": {
      "name": "python"
    }
  },
  "cells": [
    {
      "cell_type": "markdown",
      "metadata": {
        "id": "view-in-github",
        "colab_type": "text"
      },
      "source": [
        "<a href=\"https://colab.research.google.com/github/AnjaliAM/Python/blob/main/smallest_multiple_of_number.ipynb\" target=\"_parent\"><img src=\"https://colab.research.google.com/assets/colab-badge.svg\" alt=\"Open In Colab\"/></a>"
      ]
    },
    {
      "cell_type": "code",
      "execution_count": null,
      "metadata": {
        "colab": {
          "base_uri": "https://localhost:8080/",
          "height": 35
        },
        "id": "Hfx0JzXY9fU_",
        "outputId": "6be5c4c7-74a1-456a-94c6-6a150de9c67f"
      },
      "outputs": [
        {
          "output_type": "execute_result",
          "data": {
            "text/plain": [
              "'232792560'"
            ],
            "application/vnd.google.colaboratory.intrinsic+json": {
              "type": "string"
            }
          },
          "metadata": {},
          "execution_count": 1
        }
      ],
      "source": [
        "import math\n",
        "\n",
        "def compute():\n",
        "\tans = 1\n",
        "\tfor i in range(1, 21):\n",
        "\t\tans *= i // math.gcd(i, ans)\n",
        "\treturn str(ans)\n",
        "compute()"
      ]
    },
    {
      "cell_type": "code",
      "source": [
        "def smallest_multiple_of_number(number, target):\n",
        "    multiple = number\n",
        "    while multiple < target:\n",
        "        multiple += number\n",
        "    return multiple\n",
        "\n",
        "# Input your number and target here\n",
        "input_number = int(input(\"Enter a number: \"))\n",
        "input_target = int(input(\"Enter a target number: \"))\n",
        "\n",
        "result = smallest_multiple_of_number(input_number, input_target)\n",
        "print(f\"The smallest multiple of {input_number} that is greater than or equal to {input_target} is {result}\")\n"
      ],
      "metadata": {
        "colab": {
          "base_uri": "https://localhost:8080/"
        },
        "id": "I01XGwll_lyw",
        "outputId": "077ec059-a7cf-4a66-c215-f6110c63c9a8"
      },
      "execution_count": null,
      "outputs": [
        {
          "output_type": "stream",
          "name": "stdout",
          "text": [
            "Enter a number: 2\n",
            "Enter a target number: 10\n",
            "The smallest multiple of 2 that is greater than or equal to 10 is 10\n"
          ]
        }
      ]
    },
    {
      "cell_type": "code",
      "source": [
        "import decimal\n",
        "\n",
        "def smallest_multiple_of_euler():\n",
        "    decimal.getcontext().prec = 100\n",
        "    euler_number = decimal.Decimal('2.71828')\n",
        "    multiple = decimal.Decimal(1)\n",
        "\n",
        "    while True:\n",
        "        if multiple % euler_number == 0:\n",
        "            return multiple\n",
        "        multiple += 1\n",
        "\n",
        "if __name__ == \"__main__\":\n",
        "    result = smallest_multiple_of_euler()\n",
        "    print(f\"The smallest multiple of Euler's number is approximately {result}\")\n"
      ],
      "metadata": {
        "colab": {
          "base_uri": "https://localhost:8080/"
        },
        "id": "VI-38MJaBk3R",
        "outputId": "98343bf0-d408-4a98-eee8-f70fdcce8d0b"
      },
      "execution_count": null,
      "outputs": [
        {
          "output_type": "stream",
          "name": "stdout",
          "text": [
            "The smallest multiple of Euler's number is approximately 67957\n"
          ]
        }
      ]
    },
    {
      "cell_type": "code",
      "source": [
        "import math\n",
        "\n",
        "def smallest_multiple_of_euler(number):\n",
        "    multiple = 1\n",
        "    while True:\n",
        "        if multiple % number == 0:\n",
        "            return multiple\n",
        "        multiple += 1\n",
        "\n",
        "euler_number = math.e  # Euler's number\n",
        "number_to_find_multiple = 5  # Replace with the number for which you want to find the multiple\n",
        "\n",
        "result = smallest_multiple_of_euler(number_to_find_multiple)\n",
        "print(f\"The smallest multiple of Euler's number {euler_number} that is divisible by {number_to_find_multiple} is {result}\")\n"
      ],
      "metadata": {
        "colab": {
          "base_uri": "https://localhost:8080/"
        },
        "id": "piX_9B46Ef6M",
        "outputId": "723e4440-bf60-4440-ca8f-b09e547d0e75"
      },
      "execution_count": null,
      "outputs": [
        {
          "output_type": "stream",
          "name": "stdout",
          "text": [
            "The smallest multiple of Euler's number 2.718281828459045 that is divisible by 5 is 5\n"
          ]
        }
      ]
    },
    {
      "cell_type": "code",
      "source": [
        "def smallest_multiple_of_euler_number(number):\n",
        "    multiple = number\n",
        "\n",
        "    while True:\n",
        "        if all(multiple % i == 0 for i in range(1, number + 1)):\n",
        "            return multiple  # If it's divisible by all numbers from 1 to the given number, return it.\n",
        "\n",
        "        multiple += number  # Otherwise, check the next multiple.\n",
        "\n",
        "# Input the number for which you want to find the smallest multiple\n",
        "number = int(input(\"Enter a number: \"))\n",
        "\n",
        "result = smallest_multiple_of_euler_number(number)\n",
        "print(f\"The smallest multiple of {number} is {result}\")\n"
      ],
      "metadata": {
        "colab": {
          "base_uri": "https://localhost:8080/"
        },
        "id": "W1crD-5TEqzP",
        "outputId": "31acc251-fdcc-4c04-e2c5-fa0c3754b870"
      },
      "execution_count": null,
      "outputs": [
        {
          "output_type": "stream",
          "name": "stdout",
          "text": [
            "Enter a number: 8\n",
            "The smallest multiple of 8 is 840\n"
          ]
        }
      ]
    },
    {
      "cell_type": "code",
      "source": [
        "import math\n",
        "\n",
        "def euler_phi(n):\n",
        "    result = n\n",
        "    p = 2\n",
        "    while p * p <= n:\n",
        "        if n % p == 0:\n",
        "            while n % p == 0:\n",
        "                n //= p\n",
        "            result -= result // p\n",
        "        p += 1\n",
        "    if n > 1:\n",
        "        result -= result // n\n",
        "\n",
        "    return result\n",
        "\n",
        "def smallest_multiple_of_euler(n):\n",
        "    phi = euler_phi(n)\n",
        "    return n // math.gcd(n, phi)\n",
        "\n",
        "# Example\n",
        "number = 12\n",
        "result = smallest_multiple_of_euler(number)\n",
        "print(f\"The smallest multiple of {number} is {result}\")\n"
      ],
      "metadata": {
        "id": "IrnSzq7QFDeQ",
        "outputId": "983b6149-d9bb-43ad-e13d-278721b256b0",
        "colab": {
          "base_uri": "https://localhost:8080/"
        }
      },
      "execution_count": null,
      "outputs": [
        {
          "output_type": "stream",
          "name": "stdout",
          "text": [
            "The smallest multiple of 12 is 3\n"
          ]
        }
      ]
    }
  ]
}