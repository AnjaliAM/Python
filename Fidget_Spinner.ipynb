{
  "nbformat": 4,
  "nbformat_minor": 0,
  "metadata": {
    "colab": {
      "provenance": [],
      "authorship_tag": "ABX9TyNE1pmNtoNEO+AahFnVnPSo",
      "include_colab_link": true
    },
    "kernelspec": {
      "name": "python3",
      "display_name": "Python 3"
    },
    "language_info": {
      "name": "python"
    }
  },
  "cells": [
    {
      "cell_type": "markdown",
      "metadata": {
        "id": "view-in-github",
        "colab_type": "text"
      },
      "source": [
        "<a href=\"https://colab.research.google.com/github/AnjaliAM/Python/blob/main/Fidget_Spinner.ipynb\" target=\"_parent\"><img src=\"https://colab.research.google.com/assets/colab-badge.svg\" alt=\"Open In Colab\"/></a>"
      ]
    },
    {
      "cell_type": "code",
      "execution_count": null,
      "metadata": {
        "id": "T8fYvHPQe4wk"
      },
      "outputs": [],
      "source": [
        "import pygame\n",
        "import sys\n",
        "import math\n",
        "from pygame.locals import QUIT, MOUSEBUTTONDOWN\n",
        "\n",
        "# Initialize Pygame\n",
        "pygame.init()\n",
        "\n",
        "# Set up the window\n",
        "window_width, window_height = 600, 400\n",
        "window = pygame.display.set_mode((window_width, window_height))\n",
        "pygame.display.set_caption(\"Fidget Spinner\")\n",
        "\n",
        "# Colors\n",
        "WHITE = (255, 255, 255)\n",
        "BLACK = (0, 0, 0)\n",
        "\n",
        "# Load the background image and resize it to fit the window\n",
        "background_image = pygame.image.load(\"background.png\").convert()\n",
        "background_image = pygame.transform.scale(background_image, (window_width, window_height))\n",
        "\n",
        "# Load the spinner images and resize them\n",
        "spinner_images = [\n",
        "    pygame.image.load(\"fidgetspinner1.png\").convert_alpha(),\n",
        "    pygame.image.load(\"fidgetspinner2.png\").convert_alpha(),\n",
        "    pygame.image.load(\"fidgetspinner3.png\").convert_alpha()\n",
        "]\n",
        "\n",
        "spinner_width, spinner_height = 300, 300  # Desired spinner dimensions\n",
        "spinner_images = [pygame.transform.scale(image, (spinner_width, spinner_height)) for image in spinner_images]\n",
        "\n",
        "# Spinner position and rotation\n",
        "spinner_x, spinner_y = window_width // 2, window_height // 2\n",
        "spinner_rotation = 0\n",
        "\n",
        "# Spinner speed and index\n",
        "spinner_rotation_speed = 0\n",
        "current_spinner = 0\n",
        "\n",
        "# Font for displaying speed\n",
        "font = pygame.font.Font(None, 24)\n",
        "\n",
        "# Function to change the spinner option\n",
        "def change_spinner():\n",
        "    global current_spinner\n",
        "    current_spinner += 1\n",
        "    if current_spinner >= len(spinner_images):\n",
        "        current_spinner = 0\n",
        "\n",
        "# Game loop\n",
        "game_over = False\n",
        "\n",
        "while not game_over:\n",
        "    for event in pygame.event.get():\n",
        "        if event.type == QUIT:\n",
        "            pygame.quit()\n",
        "            sys.exit()\n",
        "\n",
        "        if event.type == MOUSEBUTTONDOWN:\n",
        "            change_spinner()\n",
        "\n",
        "    # Rotate the spinner based on mouse movement\n",
        "    mouse_x, mouse_y = pygame.mouse.get_pos()\n",
        "    angle = math.atan2(mouse_y - spinner_y, mouse_x - spinner_x)\n",
        "    spinner_rotation_speed = math.degrees(angle)  # Convert radians to degrees\n",
        "\n",
        "    # Rotate the spinner image\n",
        "    spinner_rotation += spinner_rotation_speed\n",
        "    rotated_spinner = pygame.transform.rotate(spinner_images[current_spinner], -spinner_rotation)\n",
        "    spinner_rect = rotated_spinner.get_rect(center=(spinner_x, spinner_y))\n",
        "\n",
        "    # Draw the background image\n",
        "    window.blit(background_image, (0, 0))\n",
        "\n",
        "    # Draw the rotated spinner image on top of the background\n",
        "    window.blit(rotated_spinner, spinner_rect)\n",
        "\n",
        "    # Display the selected spinner number\n",
        "    spinner_text = font.render(\"Spinner: {}\".format(current_spinner + 1), True, BLACK)\n",
        "    window.blit(spinner_text, (10, window_height - 30))\n",
        "\n",
        "    pygame.display.update()\n",
        "\n",
        "    # Control the game's speed (adjust this value to change the game's speed)\n",
        "    pygame.time.delay(30)\n",
        "\n",
        "# Close the Pygame window and quit\n",
        "pygame.quit()\n",
        "sys.exit()\n"
      ]
    }
  ]
}