{
  "cells": [
    {
      "cell_type": "markdown",
      "metadata": {
        "id": "view-in-github",
        "colab_type": "text"
      },
      "source": [
        "<a href=\"https://colab.research.google.com/github/AnjaliAM/Python/blob/main/Assignment_1.ipynb\" target=\"_parent\"><img src=\"https://colab.research.google.com/assets/colab-badge.svg\" alt=\"Open In Colab\"/></a>"
      ]
    },
    {
      "cell_type": "markdown",
      "id": "4a2394d5",
      "metadata": {
        "id": "4a2394d5"
      },
      "source": [
        "# Assignment 1"
      ]
    },
    {
      "cell_type": "code",
      "execution_count": null,
      "id": "27eb71f3",
      "metadata": {
        "scrolled": true,
        "id": "27eb71f3"
      },
      "outputs": [],
      "source": [
        "\n",
        "#Q1 :  In the below elements which of them are values or an expression ? \n",
        "# eg:values can be integer or string and expression wll be mathematical operators.\n",
        "#1)      *\n",
        "#2)    'hello'\n",
        "#3)    -87.8\n",
        "#4)      -\n",
        "#5)      /\n",
        "#6)      +\n",
        "#7)       6\n",
        "#Solution : \n",
        " #    values: 'hello',   -87.8,   6\n",
        " #    Expressions: *,    -,   /,  +\n",
        "   \n",
        "    \n",
        "\n"
      ]
    },
    {
      "cell_type": "code",
      "execution_count": null,
      "id": "b7c8e10c",
      "metadata": {
        "id": "b7c8e10c",
        "outputId": "f9c0d18a-68f9-42ba-8b48-6dc0f067246a"
      },
      "outputs": [
        {
          "data": {
            "text/plain": [
              "' this is string declared as a variable name my_str'"
            ]
          },
          "execution_count": 5,
          "metadata": {},
          "output_type": "execute_result"
        }
      ],
      "source": [
        "# Q2: What is the difference between  a string and a varible?\n",
        "# Ans:VARIABLES:  Variables are used to store data in a program.\n",
        "#                 Vaiables can be considered as an empty box that can be filled with some value or data\n",
        "#     STRING:   Strings are data , so strings can be used to fill variables.\n",
        "\n",
        "# Declaring string as a variale make it easier for us to work with strings throughout the programming.\n",
        "# following is an exapmle if declaring string string as an variable.\n",
        "my_str = \" this is string declared as a variable name my_str\"\n",
        "my_str  # using string as a variable benefits in not writting string againg whenever repeatation of same string required.\n"
      ]
    },
    {
      "cell_type": "code",
      "execution_count": null,
      "id": "5bd7b6d0",
      "metadata": {
        "id": "5bd7b6d0",
        "outputId": "3de02a5e-fdea-4c35-be5b-b56368d1e308"
      },
      "outputs": [
        {
          "data": {
            "text/plain": [
              "int"
            ]
          },
          "execution_count": 19,
          "metadata": {},
          "output_type": "execute_result"
        }
      ],
      "source": [
        " # Q3 : Describe three different dataypes in python.\n",
        "a= 34   \n",
        "b=\"43\"\n",
        "c= 34.5\n",
        "type(a)\n",
        " "
      ]
    },
    {
      "cell_type": "code",
      "execution_count": null,
      "id": "e9390ca5",
      "metadata": {
        "id": "e9390ca5",
        "outputId": "48317130-c7a4-411a-a558-116672946144"
      },
      "outputs": [
        {
          "data": {
            "text/plain": [
              "str"
            ]
          },
          "execution_count": 20,
          "metadata": {},
          "output_type": "execute_result"
        }
      ],
      "source": [
        "type(b)"
      ]
    },
    {
      "cell_type": "code",
      "execution_count": null,
      "id": "efef0d68",
      "metadata": {
        "id": "efef0d68",
        "outputId": "03b5a50e-6c39-450b-8e2f-5fd07bda8616"
      },
      "outputs": [
        {
          "data": {
            "text/plain": [
              "float"
            ]
          },
          "execution_count": 21,
          "metadata": {},
          "output_type": "execute_result"
        }
      ],
      "source": [
        "type(c)"
      ]
    },
    {
      "cell_type": "code",
      "execution_count": null,
      "id": "476a4084",
      "metadata": {
        "id": "476a4084",
        "outputId": "e14bfd50-e7e9-4fe8-a150-33ea11f584ce"
      },
      "outputs": [
        {
          "data": {
            "text/plain": [
              "35.5"
            ]
          },
          "execution_count": 22,
          "metadata": {},
          "output_type": "execute_result"
        }
      ],
      "source": [
        "#Q4 : What is an expression is made up of? what do all expressions do?\n",
        "# Ans: An expression is made up of mathematical operators and operands.\n",
        "#it interprets to produce some other value value,an expression  is evaluated as per predescence of its operators.\n",
        "#There can be more than one operators in an expressions and solved according to preference of operators.\n",
        "#Following are expressions in python:\n",
        "\n",
        "\n",
        "#    1) Constant expression; Expressions which have constant values only.\n",
        "#Ex:\n",
        "x= 34 +1.5\n",
        "x\n",
        "    "
      ]
    },
    {
      "cell_type": "code",
      "execution_count": null,
      "id": "2ef56cb0",
      "metadata": {
        "id": "2ef56cb0"
      },
      "outputs": [],
      "source": [
        "# 2) Arithmatic Expressions :AN arithmatic expression is a combination of numeric values, operators, sometimes parenthesis.\n",
        "# result of this kind of expressions is again a numeric value.\n",
        "# The oerators used are arithmatic operators +,,-,*,/ etc. Ex:\n",
        "x = 54\n",
        "y = 4\n",
        "\n"
      ]
    },
    {
      "cell_type": "code",
      "execution_count": null,
      "id": "a7d5024a",
      "metadata": {
        "id": "a7d5024a",
        "outputId": "d36d31d3-f6e0-42fd-859d-0e275ed4e98b"
      },
      "outputs": [
        {
          "data": {
            "text/plain": [
              "58"
            ]
          },
          "execution_count": 27,
          "metadata": {},
          "output_type": "execute_result"
        }
      ],
      "source": [
        "x+y"
      ]
    },
    {
      "cell_type": "code",
      "execution_count": null,
      "id": "3d5f6cae",
      "metadata": {
        "id": "3d5f6cae",
        "outputId": "7a69547b-d303-4f9e-ee8a-fa6a8e5d6e8a"
      },
      "outputs": [
        {
          "data": {
            "text/plain": [
              "50"
            ]
          },
          "execution_count": 28,
          "metadata": {},
          "output_type": "execute_result"
        }
      ],
      "source": [
        "x-y"
      ]
    },
    {
      "cell_type": "code",
      "execution_count": null,
      "id": "183f7b81",
      "metadata": {
        "id": "183f7b81",
        "outputId": "b72b1b1c-2661-47fe-d8b2-f982f4503097"
      },
      "outputs": [
        {
          "data": {
            "text/plain": [
              "216"
            ]
          },
          "execution_count": 29,
          "metadata": {},
          "output_type": "execute_result"
        }
      ],
      "source": [
        "x*y"
      ]
    },
    {
      "cell_type": "code",
      "execution_count": null,
      "id": "43d28c47",
      "metadata": {
        "id": "43d28c47",
        "outputId": "ce674a52-8f73-4af5-a9c1-f03ee3e29925"
      },
      "outputs": [
        {
          "data": {
            "text/plain": [
              "13.5"
            ]
          },
          "execution_count": 30,
          "metadata": {},
          "output_type": "execute_result"
        }
      ],
      "source": [
        "x/y\n"
      ]
    },
    {
      "cell_type": "code",
      "execution_count": null,
      "id": "edffd9dd",
      "metadata": {
        "id": "edffd9dd",
        "outputId": "ba4ca1c0-b97e-45ef-a974-1bf0db24617d"
      },
      "outputs": [
        {
          "data": {
            "text/plain": [
              "13"
            ]
          },
          "execution_count": 31,
          "metadata": {},
          "output_type": "execute_result"
        }
      ],
      "source": [
        "x//y     # quotient when x divided by y"
      ]
    },
    {
      "cell_type": "code",
      "execution_count": null,
      "id": "3b28d801",
      "metadata": {
        "id": "3b28d801",
        "outputId": "2bf9e856-22f7-4311-e182-27fd72e20432"
      },
      "outputs": [
        {
          "data": {
            "text/plain": [
              "2"
            ]
          },
          "execution_count": 32,
          "metadata": {},
          "output_type": "execute_result"
        }
      ],
      "source": [
        "x%y         # remainder when x divided by y"
      ]
    },
    {
      "cell_type": "code",
      "execution_count": null,
      "id": "35bafe1a",
      "metadata": {
        "id": "35bafe1a",
        "outputId": "a162eb89-1c9e-4e64-8858-bb9608078f65"
      },
      "outputs": [
        {
          "data": {
            "text/plain": [
              "8503056"
            ]
          },
          "execution_count": 33,
          "metadata": {},
          "output_type": "execute_result"
        }
      ],
      "source": [
        "x**y          # exponent x^y"
      ]
    },
    {
      "cell_type": "code",
      "execution_count": null,
      "id": "adb28992",
      "metadata": {
        "id": "adb28992",
        "outputId": "a6e4c624-cf44-4851-f85a-864be220553d"
      },
      "outputs": [
        {
          "data": {
            "text/plain": [
              "8503056"
            ]
          },
          "execution_count": 39,
          "metadata": {},
          "output_type": "execute_result"
        }
      ],
      "source": [
        "54*54*54*54"
      ]
    },
    {
      "cell_type": "code",
      "execution_count": null,
      "id": "3a872373",
      "metadata": {
        "id": "3a872373"
      },
      "outputs": [],
      "source": [
        "# 3) Integral expressions:These are kind of expressions that produce only integer results after all computations \n",
        "#and ype conversions.EX:\n",
        "a= 32\n",
        "b= 23.4"
      ]
    },
    {
      "cell_type": "code",
      "execution_count": null,
      "id": "4342f96a",
      "metadata": {
        "id": "4342f96a",
        "outputId": "b944c518-248c-47b3-cc3b-506fac7fa182"
      },
      "outputs": [
        {
          "data": {
            "text/plain": [
              "34.5"
            ]
          },
          "execution_count": 40,
          "metadata": {},
          "output_type": "execute_result"
        }
      ],
      "source": [
        "a= a+int(b)\n",
        "c"
      ]
    },
    {
      "cell_type": "code",
      "execution_count": null,
      "id": "80a78a94",
      "metadata": {
        "id": "80a78a94",
        "outputId": "6fd9e927-6c5b-497d-d157-a8f0e6c80f80"
      },
      "outputs": [
        {
          "data": {
            "text/plain": [
              "2.3504273504273505"
            ]
          },
          "execution_count": 41,
          "metadata": {},
          "output_type": "execute_result"
        }
      ],
      "source": [
        "#Floating Expression:An expression which produce floating point numbers as a result.  EX:\n",
        "a/b"
      ]
    },
    {
      "cell_type": "code",
      "execution_count": null,
      "id": "16e6af6c",
      "metadata": {
        "id": "16e6af6c"
      },
      "outputs": [],
      "source": [
        "#    Relational expression: In this kind of expression arithmatic operations are written on both sides of relational operator(<,>,<=,>=)\n",
        "#    Arithmatic epressions are evaluated first and then compared as per relational operator and produce a boolean output at the end.\n",
        "#       These expressions also called boolean expressions\n",
        "\n"
      ]
    },
    {
      "cell_type": "code",
      "execution_count": null,
      "id": "1378c5fd",
      "metadata": {
        "id": "1378c5fd",
        "outputId": "dd0f3955-8115-42b0-9c2f-6d38b93fca2b"
      },
      "outputs": [
        {
          "data": {
            "text/plain": [
              "True"
            ]
          },
          "execution_count": 48,
          "metadata": {},
          "output_type": "execute_result"
        }
      ],
      "source": [
        "a=32\n",
        "b=12\n",
        "c=65\n",
        "d= 85\n",
        "p = (a+c) <= (b+d)\n",
        "p"
      ]
    },
    {
      "cell_type": "code",
      "execution_count": null,
      "id": "ef970417",
      "metadata": {
        "id": "ef970417",
        "outputId": "ce664814-81e9-44d6-b8fa-f2e7249d2443"
      },
      "outputs": [
        {
          "data": {
            "text/plain": [
              "False"
            ]
          },
          "execution_count": 49,
          "metadata": {},
          "output_type": "execute_result"
        }
      ],
      "source": [
        "#Logical expressions: An expression that result in either true or false. it basicallly specifies one condition, as (10==9)\n",
        "# some of logical opeartors are as follows: and,or , not.EX:\n",
        "p= (10==9)\n",
        "q=(6>7)\n",
        "p and q\n"
      ]
    },
    {
      "cell_type": "code",
      "execution_count": null,
      "id": "19e70eae",
      "metadata": {
        "id": "19e70eae",
        "outputId": "dad5d585-3a59-41ec-8259-46ee1ebabedc"
      },
      "outputs": [
        {
          "data": {
            "text/plain": [
              "False"
            ]
          },
          "execution_count": 50,
          "metadata": {},
          "output_type": "execute_result"
        }
      ],
      "source": [
        "p or q"
      ]
    },
    {
      "cell_type": "code",
      "execution_count": null,
      "id": "dd88e75f",
      "metadata": {
        "id": "dd88e75f",
        "outputId": "aa22f585-a989-47de-cc53-352c361e8f67"
      },
      "outputs": [
        {
          "data": {
            "text/plain": [
              "True"
            ]
          },
          "execution_count": 51,
          "metadata": {},
          "output_type": "execute_result"
        }
      ],
      "source": [
        "not p"
      ]
    },
    {
      "cell_type": "code",
      "execution_count": null,
      "id": "8b613d22",
      "metadata": {
        "id": "8b613d22",
        "outputId": "d09ff26c-5112-4453-c8e2-d7c31f448696"
      },
      "outputs": [
        {
          "data": {
            "text/plain": [
              "True"
            ]
          },
          "execution_count": 52,
          "metadata": {},
          "output_type": "execute_result"
        }
      ],
      "source": [
        "not q"
      ]
    },
    {
      "cell_type": "code",
      "execution_count": null,
      "id": "73e9c4c2",
      "metadata": {
        "id": "73e9c4c2",
        "outputId": "e20fe4ef-b0bd-453a-fc62-0e7b86fb45ae"
      },
      "outputs": [
        {
          "data": {
            "text/plain": [
              "True"
            ]
          },
          "execution_count": 53,
          "metadata": {},
          "output_type": "execute_result"
        }
      ],
      "source": [
        "not p and not q"
      ]
    },
    {
      "cell_type": "code",
      "execution_count": null,
      "id": "dbd91936",
      "metadata": {
        "id": "dbd91936",
        "outputId": "76d6dece-13a5-4ee6-838c-5c70b353b2e7"
      },
      "outputs": [
        {
          "data": {
            "text/plain": [
              "True"
            ]
          },
          "execution_count": 54,
          "metadata": {},
          "output_type": "execute_result"
        }
      ],
      "source": [
        "not p or not q"
      ]
    },
    {
      "cell_type": "code",
      "execution_count": null,
      "id": "97cfb445",
      "metadata": {
        "id": "97cfb445",
        "outputId": "41d61fce-16ee-445c-9e8a-3748cb0fc424"
      },
      "outputs": [
        {
          "data": {
            "text/plain": [
              "(11, 184)"
            ]
          },
          "execution_count": 62,
          "metadata": {},
          "output_type": "execute_result"
        }
      ],
      "source": [
        "#Bitwise expressions: In which computations are performed at bit level.EX:\n",
        "a=23\n",
        "x=a>>1\n",
        "y = a<<3\n",
        " \n",
        "x,y"
      ]
    },
    {
      "cell_type": "code",
      "execution_count": null,
      "id": "985f5ec7",
      "metadata": {
        "id": "985f5ec7",
        "outputId": "d690df51-5e5d-4a64-adb1-d9e629ea409c"
      },
      "outputs": [
        {
          "data": {
            "text/plain": [
              "0"
            ]
          },
          "execution_count": 64,
          "metadata": {},
          "output_type": "execute_result"
        }
      ],
      "source": [
        "5>>3"
      ]
    },
    {
      "cell_type": "code",
      "execution_count": null,
      "id": "3ea250a3",
      "metadata": {
        "id": "3ea250a3"
      },
      "outputs": [],
      "source": [
        "# combinationl expression : When different types of expressions are used in single expression:Ex:\n",
        "a=12\n",
        "b= 3\n",
        "c= a+(b>>1)"
      ]
    },
    {
      "cell_type": "code",
      "execution_count": null,
      "id": "27a8bdb0",
      "metadata": {
        "id": "27a8bdb0",
        "outputId": "d2848fae-b762-4a7a-882f-0ab4e4e78393"
      },
      "outputs": [
        {
          "data": {
            "text/plain": [
              "13"
            ]
          },
          "execution_count": 66,
          "metadata": {},
          "output_type": "execute_result"
        }
      ],
      "source": [
        "c"
      ]
    },
    {
      "cell_type": "code",
      "execution_count": null,
      "id": "7d8d9a55",
      "metadata": {
        "id": "7d8d9a55"
      },
      "outputs": [],
      "source": [
        "# but in combination of expressions it is important to solve according to th precedence of operators:\n",
        "#    precedence             name                                 operator\n",
        "\n",
        "#      1                 Parenthesis                             (),[],{}\n",
        "\n",
        "#      2                 Exponentials                              **\n",
        "\n",
        "#      3       unary plus orminus or complement                  -a,+a,~a\n",
        "\n",
        "#      4            Multiply,divide,modulo                         *,/,%\n",
        "\n",
        "#      5            addition ,substraction                         +, -\n",
        "\n",
        "#      6                shift operators                           <<,>>\n",
        "\n",
        "#      7                Biwise AND                                 &\n",
        "\n",
        "#      8                Bitwissw XOR                               ^\n",
        "\n",
        "#      9                Biwise OR                                |(pipe symbol)\n",
        "\n",
        "#      10              comparison operator                        <=,>=,<,>\n",
        " \n",
        "#      11              Equality operators                          ==, !=\n",
        "\n",
        "#      12              Assignment operators                        =,+=,-=,/=,*=\n",
        "\n",
        "#      13         Identity and membership operators            is,is not, in , not in \n",
        "\n",
        "#      14              Logical operators                           and ,or ,not\n"
      ]
    },
    {
      "cell_type": "code",
      "source": [
        " "
      ],
      "metadata": {
        "id": "KnNBKQrU-N_f"
      },
      "id": "KnNBKQrU-N_f",
      "execution_count": null,
      "outputs": []
    },
    {
      "cell_type": "markdown",
      "source": [
        "What is the difference between an expression and a statement:"
      ],
      "metadata": {
        "id": "6OpbPNa4_SS4"
      },
      "id": "6OpbPNa4_SS4"
    },
    {
      "cell_type": "markdown",
      "source": [
        "Q5. What is the difference between an expression and a statement? like span = 10.\n",
        "Ans: Expression always evaluates to a value.\n",
        "A statement does something , like creating a variable or displaying a value, it only does whatever the statment says.\n",
        "\n",
        "1] Expression:An expression is a sequence or combination of values, variables,operators and function calls that always produces or returns a  result value\n",
        "Ex: x=5, y=3, z = x+y\n",
        "here x,y,z are variables\n",
        "3,5 are values\n",
        "=,+ are operators\n",
        "hence all three are expressions.\n",
        "An expression always evaluates to itself.\n",
        " NOTE: Evaluation of an experssion does not changes the state and produce at least one value as a result and results either returns to a functiton cakk or displays at the python prompt.\n",
        " A value vvariable  also considered as an expression as these always evaluate  to itself\n",
        "\n"
      ],
      "metadata": {
        "id": "CiBBYEFs_uoR"
      },
      "id": "CiBBYEFs_uoR"
    },
    {
      "cell_type": "code",
      "source": [
        "16"
      ],
      "metadata": {
        "colab": {
          "base_uri": "https://localhost:8080/"
        },
        "id": "rGP0ZGxsAEW4",
        "outputId": "b7f6b7c6-3e29-44e2-a4a3-bbcebf92825d"
      },
      "id": "rGP0ZGxsAEW4",
      "execution_count": null,
      "outputs": [
        {
          "output_type": "execute_result",
          "data": {
            "text/plain": [
              "16"
            ]
          },
          "metadata": {},
          "execution_count": 1
        }
      ]
    },
    {
      "cell_type": "code",
      "source": [
        "a= 4\n",
        "a= a+16             #using arithmatic operator"
      ],
      "metadata": {
        "id": "s9uM291vDhyC"
      },
      "id": "s9uM291vDhyC",
      "execution_count": null,
      "outputs": []
    },
    {
      "cell_type": "code",
      "source": [
        "a"
      ],
      "metadata": {
        "colab": {
          "base_uri": "https://localhost:8080/"
        },
        "id": "n3yodnayDn5C",
        "outputId": "4a6ff1b7-38d7-4919-b75f-af868c673dee"
      },
      "id": "n3yodnayDn5C",
      "execution_count": null,
      "outputs": [
        {
          "output_type": "execute_result",
          "data": {
            "text/plain": [
              "20"
            ]
          },
          "metadata": {},
          "execution_count": 3
        }
      ]
    },
    {
      "cell_type": "code",
      "source": [
        "type(a)               #using function in an expression"
      ],
      "metadata": {
        "colab": {
          "base_uri": "https://localhost:8080/"
        },
        "id": "rqlN-IBrDqCH",
        "outputId": "918c26be-d1a3-4bb8-bbda-3f9fb1f6bead"
      },
      "id": "rqlN-IBrDqCH",
      "execution_count": null,
      "outputs": [
        {
          "output_type": "execute_result",
          "data": {
            "text/plain": [
              "int"
            ]
          },
          "metadata": {},
          "execution_count": 4
        }
      ]
    },
    {
      "cell_type": "markdown",
      "source": [
        "Statement: An insrtuction(order/command) that a python interpreter can execute as a statement.A statement is the smallest executable unit of the code that has an effect,like creating a variable,displayign a value.\n",
        "Each and every line of code written in any program is a statement.ex:"
      ],
      "metadata": {
        "id": "ja4ugUITFIQF"
      },
      "id": "ja4ugUITFIQF"
    },
    {
      "cell_type": "code",
      "source": [
        "x= 5"
      ],
      "metadata": {
        "id": "4sCdnk_HD1iJ"
      },
      "id": "4sCdnk_HD1iJ",
      "execution_count": null,
      "outputs": []
    },
    {
      "cell_type": "code",
      "source": [
        "x"
      ],
      "metadata": {
        "colab": {
          "base_uri": "https://localhost:8080/"
        },
        "id": "4XmDdGj5D8dM",
        "outputId": "70465c47-9aa6-4dad-a25c-dd5e7c7bdf34"
      },
      "id": "4XmDdGj5D8dM",
      "execution_count": null,
      "outputs": [
        {
          "output_type": "execute_result",
          "data": {
            "text/plain": [
              "5"
            ]
          },
          "metadata": {},
          "execution_count": 6
        }
      ]
    },
    {
      "cell_type": "code",
      "source": [
        "#some other kind of statements in python are if,else,for,while,import.\n"
      ],
      "metadata": {
        "id": "Xsl_vMIfGW6C"
      },
      "id": "Xsl_vMIfGW6C",
      "execution_count": null,
      "outputs": []
    },
    {
      "cell_type": "markdown",
      "source": [
        "NOTE: execution of a statement changes state.\n",
        "Execution of a statement may or may not produce or display any result ,it only does whatever the statement says."
      ],
      "metadata": {
        "id": "SoWehuVTGrMS"
      },
      "id": "SoWehuVTGrMS"
    },
    {
      "cell_type": "code",
      "source": [
        "spam =10"
      ],
      "metadata": {
        "id": "6QprqANPHhzO"
      },
      "id": "6QprqANPHhzO",
      "execution_count": null,
      "outputs": []
    },
    {
      "cell_type": "code",
      "source": [
        "#Q6 after running the following code what does the variable bacon contain?\n",
        "bacon = 22\n",
        "bacon+1\n",
        "bacon    # ans : just incremented by 1"
      ],
      "metadata": {
        "colab": {
          "base_uri": "https://localhost:8080/"
        },
        "id": "Q2Joul6OHkxS",
        "outputId": "1d6f51bd-ad24-4554-e8d0-1d625e166790"
      },
      "id": "Q2Joul6OHkxS",
      "execution_count": null,
      "outputs": [
        {
          "output_type": "execute_result",
          "data": {
            "text/plain": [
              "22"
            ]
          },
          "metadata": {},
          "execution_count": 8
        }
      ]
    },
    {
      "cell_type": "code",
      "source": [
        "#Q7) what should the value of the following to terms be?\n",
        "\"spam\"+'spamspam'"
      ],
      "metadata": {
        "colab": {
          "base_uri": "https://localhost:8080/",
          "height": 35
        },
        "id": "U1z8L9i7H7Qo",
        "outputId": "8b221357-5081-4da7-9532-79e33fdba995"
      },
      "id": "U1z8L9i7H7Qo",
      "execution_count": null,
      "outputs": [
        {
          "output_type": "execute_result",
          "data": {
            "text/plain": [
              "'spamspamspam'"
            ],
            "application/vnd.google.colaboratory.intrinsic+json": {
              "type": "string"
            }
          },
          "metadata": {},
          "execution_count": 9
        }
      ]
    },
    {
      "cell_type": "code",
      "source": [
        "'spam'*3  # Ans : both have same value"
      ],
      "metadata": {
        "colab": {
          "base_uri": "https://localhost:8080/",
          "height": 35
        },
        "id": "gVWsE4TuIUPL",
        "outputId": "e65e5d67-bc3f-4754-e17c-d63e2de94ed4"
      },
      "id": "gVWsE4TuIUPL",
      "execution_count": null,
      "outputs": [
        {
          "output_type": "execute_result",
          "data": {
            "text/plain": [
              "'spamspamspam'"
            ],
            "application/vnd.google.colaboratory.intrinsic+json": {
              "type": "string"
            }
          },
          "metadata": {},
          "execution_count": 10
        }
      ]
    },
    {
      "cell_type": "code",
      "source": [
        "# Q8) Why eggs is a valid variable name while 100 is invalid?\n",
        "# ANS: Because eggs has only character values which are allowed in variable naming while starting from numeric values are not allowed hence 100 is invalid\n",
        "# eegs100 is again valid variable name but 100eggs is invalid"
      ],
      "metadata": {
        "id": "eV496JDmIYYU"
      },
      "id": "eV496JDmIYYU",
      "execution_count": null,
      "outputs": []
    },
    {
      "cell_type": "code",
      "source": [
        "fwf1"
      ],
      "metadata": {
        "colab": {
          "base_uri": "https://localhost:8080/"
        },
        "id": "tr2UJTDIJJzC",
        "outputId": "2eda1788-87cd-4de4-bc8b-2c86240c774b"
      },
      "id": "tr2UJTDIJJzC",
      "execution_count": null,
      "outputs": [
        {
          "output_type": "execute_result",
          "data": {
            "text/plain": [
              "23312"
            ]
          },
          "metadata": {},
          "execution_count": 13
        }
      ]
    },
    {
      "cell_type": "code",
      "source": [
        "#Q9 What functions can be used to get the integer , floting, or string vesrion of a value.\n",
        "#Ans: This is possible with typecasting. As shown\n",
        "A = 34322\n",
        "type(A)"
      ],
      "metadata": {
        "colab": {
          "base_uri": "https://localhost:8080/"
        },
        "id": "NfKRGSV5JL0h",
        "outputId": "c9b63cd1-d04d-445f-942b-1d229d24cc45"
      },
      "id": "NfKRGSV5JL0h",
      "execution_count": null,
      "outputs": [
        {
          "output_type": "execute_result",
          "data": {
            "text/plain": [
              "int"
            ]
          },
          "metadata": {},
          "execution_count": 14
        }
      ]
    },
    {
      "cell_type": "code",
      "source": [
        "A = str(A)              \n",
        "A"
      ],
      "metadata": {
        "colab": {
          "base_uri": "https://localhost:8080/",
          "height": 35
        },
        "id": "oRn_eaM6J3nB",
        "outputId": "570ee058-6871-4625-b913-7444e8663892"
      },
      "id": "oRn_eaM6J3nB",
      "execution_count": null,
      "outputs": [
        {
          "output_type": "execute_result",
          "data": {
            "text/plain": [
              "'34322'"
            ],
            "application/vnd.google.colaboratory.intrinsic+json": {
              "type": "string"
            }
          },
          "metadata": {},
          "execution_count": 16
        }
      ]
    },
    {
      "cell_type": "code",
      "source": [
        "type(A)"
      ],
      "metadata": {
        "colab": {
          "base_uri": "https://localhost:8080/"
        },
        "id": "-ug0DkluJ6Ra",
        "outputId": "5696680e-f80d-4383-d87c-4cce280a0d2c"
      },
      "id": "-ug0DkluJ6Ra",
      "execution_count": null,
      "outputs": [
        {
          "output_type": "execute_result",
          "data": {
            "text/plain": [
              "str"
            ]
          },
          "metadata": {},
          "execution_count": 17
        }
      ]
    },
    {
      "cell_type": "code",
      "source": [
        "A= float(A)\n",
        "A"
      ],
      "metadata": {
        "colab": {
          "base_uri": "https://localhost:8080/"
        },
        "id": "5rp-z5KPKAPa",
        "outputId": "ca0ac108-e10d-485b-ce33-723a9db73078"
      },
      "id": "5rp-z5KPKAPa",
      "execution_count": null,
      "outputs": [
        {
          "output_type": "execute_result",
          "data": {
            "text/plain": [
              "34322.0"
            ]
          },
          "metadata": {},
          "execution_count": 18
        }
      ]
    },
    {
      "cell_type": "code",
      "source": [
        "type(A)"
      ],
      "metadata": {
        "colab": {
          "base_uri": "https://localhost:8080/"
        },
        "id": "JSuMSsGYKEpp",
        "outputId": "bede527f-bdaf-4504-8738-6a7c66bb43e8"
      },
      "id": "JSuMSsGYKEpp",
      "execution_count": null,
      "outputs": [
        {
          "output_type": "execute_result",
          "data": {
            "text/plain": [
              "float"
            ]
          },
          "metadata": {},
          "execution_count": 19
        }
      ]
    },
    {
      "cell_type": "code",
      "source": [
        "#   Q10)  Find error and fix it.\n",
        "     'I have eaten' + 99 +'burritos'  \n",
        "#  Ans:  different datatypes can't be added error is that 99 is not string type it can be fixed as\n"
      ],
      "metadata": {
        "id": "9gB6I0WGKGdZ"
      },
      "id": "9gB6I0WGKGdZ",
      "execution_count": null,
      "outputs": []
    },
    {
      "cell_type": "code",
      "source": [
        "     'I have eaten ' +  '99' +' burritos'  "
      ],
      "metadata": {
        "colab": {
          "base_uri": "https://localhost:8080/",
          "height": 35
        },
        "id": "pWC3bgrvLGxl",
        "outputId": "70fa0cf4-77f4-4d45-b828-6bc0c22f3519"
      },
      "id": "pWC3bgrvLGxl",
      "execution_count": null,
      "outputs": [
        {
          "output_type": "execute_result",
          "data": {
            "text/plain": [
              "'I have eaten  99 burritos'"
            ],
            "application/vnd.google.colaboratory.intrinsic+json": {
              "type": "string"
            }
          },
          "metadata": {},
          "execution_count": 21
        }
      ]
    },
    {
      "cell_type": "code",
      "source": [],
      "metadata": {
        "id": "qlZSUJNtLLQb"
      },
      "id": "qlZSUJNtLLQb",
      "execution_count": null,
      "outputs": []
    }
  ],
  "metadata": {
    "kernelspec": {
      "display_name": "Python 3 (ipykernel)",
      "language": "python",
      "name": "python3"
    },
    "language_info": {
      "codemirror_mode": {
        "name": "ipython",
        "version": 3
      },
      "file_extension": ".py",
      "mimetype": "text/x-python",
      "name": "python",
      "nbconvert_exporter": "python",
      "pygments_lexer": "ipython3",
      "version": "3.9.12"
    },
    "colab": {
      "provenance": [],
      "collapsed_sections": [],
      "include_colab_link": true
    }
  },
  "nbformat": 4,
  "nbformat_minor": 5
}