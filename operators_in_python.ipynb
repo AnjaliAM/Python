{
  "nbformat": 4,
  "nbformat_minor": 0,
  "metadata": {
    "colab": {
      "provenance": [],
      "authorship_tag": "ABX9TyMuoP1FzEYFjqfQ1hA75W+0",
      "include_colab_link": true
    },
    "kernelspec": {
      "name": "python3",
      "display_name": "Python 3"
    },
    "language_info": {
      "name": "python"
    }
  },
  "cells": [
    {
      "cell_type": "markdown",
      "metadata": {
        "id": "view-in-github",
        "colab_type": "text"
      },
      "source": [
        "<a href=\"https://colab.research.google.com/github/AnjaliAM/Python/blob/main/operators_in_python.ipynb\" target=\"_parent\"><img src=\"https://colab.research.google.com/assets/colab-badge.svg\" alt=\"Open In Colab\"/></a>"
      ]
    },
    {
      "cell_type": "code",
      "execution_count": null,
      "metadata": {
        "id": "CYRUO4S9_lNd",
        "colab": {
          "base_uri": "https://localhost:8080/"
        },
        "outputId": "f92af61d-a6ef-40b5-a89d-38ef51fa144c"
      },
      "outputs": [
        {
          "output_type": "stream",
          "name": "stdout",
          "text": [
            "5\n",
            "5\n"
          ]
        }
      ],
      "source": [
        "# python operators:  which performs some operations on variables or on values\n",
        "a=2\n",
        "b=3\n",
        "print(a+b)  # addition of two variables which is already declared\n",
        "\n",
        "print(2+3)   # addition of value"
      ]
    },
    {
      "cell_type": "code",
      "source": [
        "# types of operators in python:\n",
        "1)Arithmatic operators. +,-,/,*,%,||,^\n",
        "\n",
        "2) Assignment operator.\n",
        "\n",
        "3) comparison operators.\n",
        "\n",
        "4)logical operators.\n",
        "\n",
        "5)identity operator\n",
        "\n",
        "6) membership operator\n",
        "\n",
        "7) bitwise operator"
      ],
      "metadata": {
        "id": "sFbY8npu2mW5"
      },
      "execution_count": null,
      "outputs": []
    },
    {
      "cell_type": "code",
      "source": [
        "# addition\n",
        "print(2+3)\n",
        "\n",
        "# subtraction\n",
        "\n",
        "print(5-3)\n",
        "\n",
        "#multiplication\n",
        "\n",
        "print(3*2)\n",
        "\n",
        "#division\n",
        "\n",
        "int(4/2)\n",
        "\n",
        "# modulus operator :IT gives you the remainder (%)\n",
        "4 % 2\n",
        "\n",
        "234234 % 234\n",
        "\n",
        "\n"
      ],
      "metadata": {
        "id": "BiwZuEs12mjS",
        "colab": {
          "base_uri": "https://localhost:8080/"
        },
        "outputId": "96e328a7-2908-4273-a729-169e98691de3"
      },
      "execution_count": null,
      "outputs": [
        {
          "output_type": "stream",
          "name": "stdout",
          "text": [
            "5\n",
            "2\n",
            "6\n"
          ]
        },
        {
          "output_type": "execute_result",
          "data": {
            "text/plain": [
              "0"
            ]
          },
          "metadata": {},
          "execution_count": 8
        }
      ]
    },
    {
      "cell_type": "code",
      "source": [
        "456 % 15      # when \n",
        "\n"
      ],
      "metadata": {
        "id": "aSS9bD192mvV",
        "colab": {
          "base_uri": "https://localhost:8080/"
        },
        "outputId": "c15230c0-20c4-447c-a1e0-4325810203fd"
      },
      "execution_count": null,
      "outputs": [
        {
          "output_type": "execute_result",
          "data": {
            "text/plain": [
              "6"
            ]
          },
          "metadata": {},
          "execution_count": 13
        }
      ]
    },
    {
      "cell_type": "code",
      "source": [
        "765 % 43"
      ],
      "metadata": {
        "id": "0fViIHS4-IyE",
        "colab": {
          "base_uri": "https://localhost:8080/"
        },
        "outputId": "9b2bb54e-4e6b-4096-ce9e-8f86cc27f2ce"
      },
      "execution_count": null,
      "outputs": [
        {
          "output_type": "execute_result",
          "data": {
            "text/plain": [
              "34"
            ]
          },
          "metadata": {},
          "execution_count": 15
        }
      ]
    },
    {
      "cell_type": "code",
      "source": [
        "#floor division(//) : IT gives quotient\n",
        "4 // 2"
      ],
      "metadata": {
        "id": "pPX-ZDmA2m7s",
        "colab": {
          "base_uri": "https://localhost:8080/"
        },
        "outputId": "56017e89-ddf2-414c-9cfc-9772b1a5331c"
      },
      "execution_count": null,
      "outputs": [
        {
          "output_type": "execute_result",
          "data": {
            "text/plain": [
              "2"
            ]
          },
          "metadata": {},
          "execution_count": 16
        }
      ]
    },
    {
      "cell_type": "code",
      "source": [
        "6 // 2 "
      ],
      "metadata": {
        "colab": {
          "base_uri": "https://localhost:8080/"
        },
        "id": "e0_x7fQ_BuBV",
        "outputId": "cbd43b23-d026-4fa1-bf0c-ad55d94280dc"
      },
      "execution_count": null,
      "outputs": [
        {
          "output_type": "execute_result",
          "data": {
            "text/plain": [
              "3"
            ]
          },
          "metadata": {},
          "execution_count": 18
        }
      ]
    },
    {
      "cell_type": "code",
      "source": [
        "45687 // 54"
      ],
      "metadata": {
        "colab": {
          "base_uri": "https://localhost:8080/"
        },
        "id": "tM1TYcq3B6wu",
        "outputId": "ee01ab3f-4d91-441a-e1a3-578e746d0fad"
      },
      "execution_count": null,
      "outputs": [
        {
          "output_type": "execute_result",
          "data": {
            "text/plain": [
              "846"
            ]
          },
          "metadata": {},
          "execution_count": 19
        }
      ]
    },
    {
      "cell_type": "code",
      "source": [
        "# EXPONENT   (**) : \n",
        "2**2\n"
      ],
      "metadata": {
        "colab": {
          "base_uri": "https://localhost:8080/"
        },
        "id": "22T7OQnWCArd",
        "outputId": "235e54f5-79b0-4b6f-efb1-4284f4339a1d"
      },
      "execution_count": null,
      "outputs": [
        {
          "output_type": "execute_result",
          "data": {
            "text/plain": [
              "4"
            ]
          },
          "metadata": {},
          "execution_count": 20
        }
      ]
    },
    {
      "cell_type": "code",
      "source": [
        "3 ** 8"
      ],
      "metadata": {
        "colab": {
          "base_uri": "https://localhost:8080/"
        },
        "id": "3-u2OdrkCart",
        "outputId": "93fcfc17-5c33-4d5a-e99d-b26e2696b107"
      },
      "execution_count": null,
      "outputs": [
        {
          "output_type": "execute_result",
          "data": {
            "text/plain": [
              "6561"
            ]
          },
          "metadata": {},
          "execution_count": 23
        }
      ]
    },
    {
      "cell_type": "code",
      "source": [
        "91 **56"
      ],
      "metadata": {
        "colab": {
          "base_uri": "https://localhost:8080/"
        },
        "id": "IvHO5AuVCe_e",
        "outputId": "d684c6b4-66d5-4329-ad6f-e2a39fc17bd8"
      },
      "execution_count": null,
      "outputs": [
        {
          "output_type": "execute_result",
          "data": {
            "text/plain": [
              "50853162922197683034477814546540163384749053080106817047999742969763022288982688895714355359343887659391659041"
            ]
          },
          "metadata": {},
          "execution_count": 24
        }
      ]
    },
    {
      "cell_type": "code",
      "source": [
        "## "
      ],
      "metadata": {
        "id": "5y9UQy1OCjx9"
      },
      "execution_count": null,
      "outputs": []
    },
    {
      "cell_type": "code",
      "source": [
        "#Assignment operators:\n",
        "i= 1\n",
        "while i<100:\n",
        "  print(i)\n",
        "  i= i+10  "
      ],
      "metadata": {
        "colab": {
          "base_uri": "https://localhost:8080/"
        },
        "id": "ckhuT6ic4BMR",
        "outputId": "ddc01850-8793-40e2-f828-d20310788c81"
      },
      "execution_count": null,
      "outputs": [
        {
          "output_type": "stream",
          "name": "stdout",
          "text": [
            "1\n",
            "11\n",
            "21\n",
            "31\n",
            "41\n",
            "51\n",
            "61\n",
            "71\n",
            "81\n",
            "91\n"
          ]
        }
      ]
    },
    {
      "cell_type": "code",
      "source": [
        "# equals to (=)\n",
        "x=5\n",
        "u=7"
      ],
      "metadata": {
        "id": "Finw44AW4c5S"
      },
      "execution_count": null,
      "outputs": []
    },
    {
      "cell_type": "code",
      "source": [
        "#increment operator:\n",
        "x= x+3  # old method\n",
        "x+=3     # new shortcut method"
      ],
      "metadata": {
        "id": "Q9oabTRQ5Pfb"
      },
      "execution_count": null,
      "outputs": []
    },
    {
      "cell_type": "code",
      "source": [
        "x"
      ],
      "metadata": {
        "colab": {
          "base_uri": "https://localhost:8080/"
        },
        "id": "g17NAnLS5bCI",
        "outputId": "62499a92-8394-4859-9225-e32c8ec66281"
      },
      "execution_count": null,
      "outputs": [
        {
          "output_type": "execute_result",
          "data": {
            "text/plain": [
              "8"
            ]
          },
          "metadata": {},
          "execution_count": 6
        }
      ]
    },
    {
      "cell_type": "code",
      "source": [
        "# increase value of u by 5 :\n",
        "u=7\n",
        "u =u+5"
      ],
      "metadata": {
        "id": "DKEjtvL85cBI"
      },
      "execution_count": null,
      "outputs": []
    },
    {
      "cell_type": "code",
      "source": [
        "u"
      ],
      "metadata": {
        "colab": {
          "base_uri": "https://localhost:8080/"
        },
        "id": "IIOxsHJa6da_",
        "outputId": "367d6017-663e-41dd-96c0-b206a29837cd"
      },
      "execution_count": null,
      "outputs": [
        {
          "output_type": "execute_result",
          "data": {
            "text/plain": [
              "12"
            ]
          },
          "metadata": {},
          "execution_count": 8
        }
      ]
    },
    {
      "cell_type": "code",
      "source": [
        "u+=5"
      ],
      "metadata": {
        "id": "0W2tsiRK6iLG"
      },
      "execution_count": null,
      "outputs": []
    },
    {
      "cell_type": "code",
      "source": [
        "u"
      ],
      "metadata": {
        "colab": {
          "base_uri": "https://localhost:8080/"
        },
        "id": "41y8vmWE6zmO",
        "outputId": "c481b92c-9060-4cc3-e56d-8a82a45fa65c"
      },
      "execution_count": null,
      "outputs": [
        {
          "output_type": "execute_result",
          "data": {
            "text/plain": [
              "17"
            ]
          },
          "metadata": {},
          "execution_count": 10
        }
      ]
    },
    {
      "cell_type": "code",
      "source": [
        "y= 56\n",
        "# increse y by 23 \n",
        "\n",
        "\n",
        "y = y+23\n",
        "\n",
        "y+=23\n",
        "\n",
        "\n"
      ],
      "metadata": {
        "id": "N8882MYu60if"
      },
      "execution_count": null,
      "outputs": []
    },
    {
      "cell_type": "code",
      "source": [
        "# decrement operator:\n",
        "y"
      ],
      "metadata": {
        "colab": {
          "base_uri": "https://localhost:8080/"
        },
        "id": "2YaDovTX9zg5",
        "outputId": "fc2ee474-422b-4005-da10-ddec3b1ee41d"
      },
      "execution_count": null,
      "outputs": [
        {
          "output_type": "execute_result",
          "data": {
            "text/plain": [
              "102"
            ]
          },
          "metadata": {},
          "execution_count": 12
        }
      ]
    },
    {
      "cell_type": "code",
      "source": [
        "y =y - 23\n",
        "y"
      ],
      "metadata": {
        "colab": {
          "base_uri": "https://localhost:8080/"
        },
        "id": "55iuHM0f9zkZ",
        "outputId": "c8a1431c-6a60-48a7-a54a-0efbd048c7a8"
      },
      "execution_count": null,
      "outputs": [
        {
          "output_type": "execute_result",
          "data": {
            "text/plain": [
              "56"
            ]
          },
          "metadata": {},
          "execution_count": 14
        }
      ]
    },
    {
      "cell_type": "code",
      "source": [
        "y -=23"
      ],
      "metadata": {
        "id": "3SPnwmOp9zon"
      },
      "execution_count": null,
      "outputs": []
    },
    {
      "cell_type": "code",
      "source": [
        "y"
      ],
      "metadata": {
        "colab": {
          "base_uri": "https://localhost:8080/"
        },
        "id": "IaYTueAI-C_y",
        "outputId": "7a9ce1e7-28e3-410b-9630-b0d054d87d06"
      },
      "execution_count": null,
      "outputs": [
        {
          "output_type": "execute_result",
          "data": {
            "text/plain": [
              "33"
            ]
          },
          "metadata": {},
          "execution_count": 16
        }
      ]
    },
    {
      "cell_type": "code",
      "source": [
        "t= 43\n",
        "t = t-12"
      ],
      "metadata": {
        "id": "LH7cXovp-Eno"
      },
      "execution_count": null,
      "outputs": []
    },
    {
      "cell_type": "code",
      "source": [
        "t-=12"
      ],
      "metadata": {
        "id": "R6HRYxvy-rum"
      },
      "execution_count": null,
      "outputs": []
    },
    {
      "cell_type": "code",
      "source": [
        "y= 34\n",
        "y*=3"
      ],
      "metadata": {
        "id": "NVxt62hY-uDG"
      },
      "execution_count": null,
      "outputs": []
    },
    {
      "cell_type": "code",
      "source": [
        "c= 76\n",
        "c/=32"
      ],
      "metadata": {
        "id": "lGQtM_g3AJe1"
      },
      "execution_count": null,
      "outputs": []
    },
    {
      "cell_type": "code",
      "source": [
        "#modulus:\n",
        "\n",
        "r = 45\n",
        "r = r%2\n",
        "r%=2\n",
        "r"
      ],
      "metadata": {
        "colab": {
          "base_uri": "https://localhost:8080/"
        },
        "id": "n9_nWS-OAMwM",
        "outputId": "7f490bc6-e547-4129-9084-411e8cf2fe13"
      },
      "execution_count": null,
      "outputs": [
        {
          "output_type": "execute_result",
          "data": {
            "text/plain": [
              "1"
            ]
          },
          "metadata": {},
          "execution_count": 23
        }
      ]
    },
    {
      "cell_type": "code",
      "source": [
        "# floor division:\n",
        "h = 453\n",
        "h //=3"
      ],
      "metadata": {
        "id": "8QXCrpHsAfV7"
      },
      "execution_count": null,
      "outputs": []
    },
    {
      "cell_type": "code",
      "source": [
        "h"
      ],
      "metadata": {
        "colab": {
          "base_uri": "https://localhost:8080/"
        },
        "id": "uIv8FO9WA3Ja",
        "outputId": "141c064b-8b54-4aca-9615-b37cdabb5f3f"
      },
      "execution_count": null,
      "outputs": [
        {
          "output_type": "execute_result",
          "data": {
            "text/plain": [
              "151"
            ]
          },
          "metadata": {},
          "execution_count": 25
        }
      ]
    },
    {
      "cell_type": "code",
      "source": [
        "h=h//3"
      ],
      "metadata": {
        "id": "qpYK1XriA4F8"
      },
      "execution_count": null,
      "outputs": []
    },
    {
      "cell_type": "code",
      "source": [
        "h"
      ],
      "metadata": {
        "colab": {
          "base_uri": "https://localhost:8080/"
        },
        "id": "SXgYTYFLA-Eq",
        "outputId": "817e6c4a-6487-4883-a2f7-107cc30c4aee"
      },
      "execution_count": null,
      "outputs": [
        {
          "output_type": "execute_result",
          "data": {
            "text/plain": [
              "50"
            ]
          },
          "metadata": {},
          "execution_count": 27
        }
      ]
    },
    {
      "cell_type": "code",
      "source": [
        "''' 4 7 86 4 ---0 and 1101,110\n",
        "and (&) :bitwise and operator\n",
        "a & b\n",
        "or (|)    bitwise or operator\n",
        "a|b\n",
        "\n",
        "XOR (^)  bitwise XOR operator\n",
        "'''"
      ],
      "metadata": {
        "id": "QnefzBopA-xS"
      },
      "execution_count": null,
      "outputs": []
    },
    {
      "cell_type": "code",
      "source": [
        "bin(86)"
      ],
      "metadata": {
        "colab": {
          "base_uri": "https://localhost:8080/",
          "height": 36
        },
        "id": "MbVwOlfOl5ho",
        "outputId": "d2258d8e-21e2-45b5-b2d4-0a395dee2dac"
      },
      "execution_count": null,
      "outputs": [
        {
          "output_type": "execute_result",
          "data": {
            "text/plain": [
              "'0b1010110'"
            ],
            "application/vnd.google.colaboratory.intrinsic+json": {
              "type": "string"
            }
          },
          "metadata": {},
          "execution_count": 26
        }
      ]
    },
    {
      "cell_type": "code",
      "source": [
        "# bitwise and operator:\n",
        "a= 3\n",
        "b =5\n",
        "bin(3)\n",
        "a = a & b\n",
        "print(a)"
      ],
      "metadata": {
        "colab": {
          "base_uri": "https://localhost:8080/"
        },
        "id": "Ekz8rOReDCAQ",
        "outputId": "484e5515-a85e-4516-c252-bea87a673d8f"
      },
      "execution_count": null,
      "outputs": [
        {
          "output_type": "stream",
          "name": "stdout",
          "text": [
            "1\n"
          ]
        }
      ]
    },
    {
      "cell_type": "code",
      "source": [
        " bin(3)  | bin (5)  "
      ],
      "metadata": {
        "colab": {
          "base_uri": "https://localhost:8080/",
          "height": 36
        },
        "id": "iS4fJlKtoXWj",
        "outputId": "d734b346-54a3-4c35-b0de-f016b8e52b09"
      },
      "execution_count": null,
      "outputs": [
        {
          "output_type": "execute_result",
          "data": {
            "text/plain": [
              "'0b11'"
            ],
            "application/vnd.google.colaboratory.intrinsic+json": {
              "type": "string"
            }
          },
          "metadata": {},
          "execution_count": 31
        }
      ]
    },
    {
      "cell_type": "code",
      "source": [
        "1  &   1   = 1\n",
        "\n",
        "0  & 1     =0\n",
        "\n",
        "1  &   0  =  0\n",
        "\n",
        "0 & 0 =    0\n",
        "\n",
        "\n",
        "\n",
        "\n",
        "\n",
        "\n",
        "1  |  1  =  1\n",
        "\n",
        "1  |   0 =  1\n",
        "\n",
        "0  |  1   =  1\n",
        "\n",
        "0 | 0   =    0\n",
        "\n",
        "\n",
        "\n",
        "\n",
        "\n",
        "\n",
        "1   ^  1= 0\n",
        "1  ^   0  =1\n",
        "0  ^   1  =1\n",
        "0    ^   0 = 0"
      ],
      "metadata": {
        "id": "t0oWbx2noYZO"
      },
      "execution_count": null,
      "outputs": []
    },
    {
      "cell_type": "code",
      "source": [
        "0 =    00\n",
        "1=     01\n",
        "2=     10\n",
        "3=     11\n",
        "\n",
        "\n",
        "\n",
        "\n",
        "  2   | 3  ==   1 0  | 1  1 ==    11   =  3"
      ],
      "metadata": {
        "id": "STULFHZqDQxn"
      },
      "execution_count": null,
      "outputs": []
    },
    {
      "cell_type": "code",
      "source": [
        "a"
      ],
      "metadata": {
        "colab": {
          "base_uri": "https://localhost:8080/"
        },
        "id": "ANzBYNXNDZ9u",
        "outputId": "dbdc84fa-1349-4076-ab5d-78b86ab2ae43"
      },
      "execution_count": null,
      "outputs": [
        {
          "output_type": "execute_result",
          "data": {
            "text/plain": [
              "5"
            ]
          },
          "metadata": {},
          "execution_count": 30
        }
      ]
    },
    {
      "cell_type": "code",
      "source": [
        "a = a^b\n",
        "a"
      ],
      "metadata": {
        "colab": {
          "base_uri": "https://localhost:8080/",
          "height": 190
        },
        "id": "pRkmIR8JDaim",
        "outputId": "9a8cfd32-a40e-486b-e8ac-55c6205d96ea"
      },
      "execution_count": null,
      "outputs": [
        {
          "output_type": "error",
          "ename": "NameError",
          "evalue": "ignored",
          "traceback": [
            "\u001b[0;31m---------------------------------------------------------------------------\u001b[0m",
            "\u001b[0;31mNameError\u001b[0m                                 Traceback (most recent call last)",
            "\u001b[0;32m<ipython-input-25-08d05b7e20d4>\u001b[0m in \u001b[0;36m<module>\u001b[0;34m\u001b[0m\n\u001b[0;32m----> 1\u001b[0;31m \u001b[0ma\u001b[0m \u001b[0;34m=\u001b[0m \u001b[0ma\u001b[0m\u001b[0;34m^\u001b[0m\u001b[0mb\u001b[0m\u001b[0;34m\u001b[0m\u001b[0;34m\u001b[0m\u001b[0m\n\u001b[0m\u001b[1;32m      2\u001b[0m \u001b[0ma\u001b[0m\u001b[0;34m\u001b[0m\u001b[0;34m\u001b[0m\u001b[0m\n",
            "\u001b[0;31mNameError\u001b[0m: name 'a' is not defined"
          ]
        }
      ]
    },
    {
      "cell_type": "code",
      "source": [
        "while True:\n",
        "  n=random.randrange(1,12)\n",
        "guess=int(input(\"enter any number: \"))\n",
        "while n != guess:\n",
        " \n",
        "  if guess <n:\n",
        "    print(\"too low\")\n",
        "    guess = int(input9(\"number: \"))\n",
        "  elif guess > n:\n",
        "    print(\"too high! \")\n",
        "    guess= input(\"number3: \")\n",
        "  else:\n",
        "    print(\"your answer was right! \")"
      ],
      "metadata": {
        "id": "5wFQ6vBhnv1X"
      },
      "execution_count": null,
      "outputs": []
    },
    {
      "cell_type": "code",
      "source": [
        "+=,-=,*=,\\="
      ],
      "metadata": {
        "id": "weGSYqM5so7L"
      },
      "execution_count": null,
      "outputs": []
    },
    {
      "cell_type": "code",
      "source": [
        "a= 8\n",
        "b= 8\n",
        "\n",
        "a == b    # equals equal to(==)\n",
        " "
      ],
      "metadata": {
        "colab": {
          "base_uri": "https://localhost:8080/"
        },
        "id": "ua4bubvYspiO",
        "outputId": "d1d9da46-6b30-4cdd-f2f4-b64277c968f6"
      },
      "execution_count": null,
      "outputs": [
        {
          "output_type": "execute_result",
          "data": {
            "text/plain": [
              "True"
            ]
          },
          "metadata": {},
          "execution_count": 34
        }
      ]
    },
    {
      "cell_type": "code",
      "source": [
        "a= 8\n",
        "b= 8\n",
        "\n",
        "#not equals to \n",
        "\n",
        "a != b"
      ],
      "metadata": {
        "colab": {
          "base_uri": "https://localhost:8080/"
        },
        "id": "ZzZ6xJtPuB1A",
        "outputId": "eb4d4fef-1ea3-412d-f97e-ad971c5bb5be"
      },
      "execution_count": null,
      "outputs": [
        {
          "output_type": "execute_result",
          "data": {
            "text/plain": [
              "False"
            ]
          },
          "metadata": {},
          "execution_count": 37
        }
      ]
    },
    {
      "cell_type": "code",
      "source": [
        "a = 54\n",
        " \n",
        "b= 76\n",
        "\n",
        "a > b"
      ],
      "metadata": {
        "colab": {
          "base_uri": "https://localhost:8080/"
        },
        "id": "nx0ZcTwIuCFB",
        "outputId": "eee727ea-6d93-4d36-eaef-a2ef99bf9b56"
      },
      "execution_count": null,
      "outputs": [
        {
          "output_type": "execute_result",
          "data": {
            "text/plain": [
              "False"
            ]
          },
          "metadata": {},
          "execution_count": 38
        }
      ]
    },
    {
      "cell_type": "code",
      "source": [
        "a<b"
      ],
      "metadata": {
        "colab": {
          "base_uri": "https://localhost:8080/"
        },
        "id": "25NePO9puvEF",
        "outputId": "b352c14c-cc2b-4f1c-b57d-4b702b4021f5"
      },
      "execution_count": null,
      "outputs": [
        {
          "output_type": "execute_result",
          "data": {
            "text/plain": [
              "True"
            ]
          },
          "metadata": {},
          "execution_count": 39
        }
      ]
    },
    {
      "cell_type": "code",
      "source": [
        "c= 7\n",
        "d =9\n",
        "\n",
        " \n",
        "c >= d  "
      ],
      "metadata": {
        "colab": {
          "base_uri": "https://localhost:8080/"
        },
        "id": "wZU48weJuzKl",
        "outputId": "c768e096-d4d7-4ca3-f84f-d88576c485b8"
      },
      "execution_count": null,
      "outputs": [
        {
          "output_type": "execute_result",
          "data": {
            "text/plain": [
              "False"
            ]
          },
          "metadata": {},
          "execution_count": 43
        }
      ]
    },
    {
      "cell_type": "code",
      "source": [
        "c <= d"
      ],
      "metadata": {
        "colab": {
          "base_uri": "https://localhost:8080/"
        },
        "id": "N9mvPl3ZuzYX",
        "outputId": "f605cd8a-bf4d-4a61-b61f-51b37e8848c5"
      },
      "execution_count": null,
      "outputs": [
        {
          "output_type": "execute_result",
          "data": {
            "text/plain": [
              "True"
            ]
          },
          "metadata": {},
          "execution_count": 44
        }
      ]
    },
    {
      "cell_type": "code",
      "source": [
        "==,    !=,   >   ,<   ,<=    ,>="
      ],
      "metadata": {
        "id": "WL5NhlZevm_f"
      },
      "execution_count": null,
      "outputs": []
    },
    {
      "cell_type": "code",
      "source": [
        "x = 5\n",
        "\n",
        "print(x>3 and x <8)"
      ],
      "metadata": {
        "colab": {
          "base_uri": "https://localhost:8080/"
        },
        "id": "NoaoX_3iv5Tq",
        "outputId": "7c0a3fbb-dd34-40bc-93b4-6faca400d476"
      },
      "execution_count": null,
      "outputs": [
        {
          "output_type": "stream",
          "name": "stdout",
          "text": [
            "True\n"
          ]
        }
      ]
    },
    {
      "cell_type": "code",
      "source": [
        "x = 5\n",
        "\n",
        "print(x>3 or x <8)"
      ],
      "metadata": {
        "colab": {
          "base_uri": "https://localhost:8080/"
        },
        "id": "Pq4DsIpwyd4N",
        "outputId": "4e5dc2e3-4993-43af-dbc6-08dfb4ac4e04"
      },
      "execution_count": null,
      "outputs": [
        {
          "output_type": "stream",
          "name": "stdout",
          "text": [
            "True\n"
          ]
        }
      ]
    },
    {
      "cell_type": "code",
      "source": [
        "x = 5\n",
        "\n",
        "print(x<3 or x <8)"
      ],
      "metadata": {
        "colab": {
          "base_uri": "https://localhost:8080/"
        },
        "id": "cn0qdL4RyFR1",
        "outputId": "b5c5b961-a2ba-4e47-b408-598781b90f2a"
      },
      "execution_count": null,
      "outputs": [
        {
          "output_type": "stream",
          "name": "stdout",
          "text": [
            "True\n"
          ]
        }
      ]
    },
    {
      "cell_type": "code",
      "source": [
        "x = 5\n",
        "\n",
        "print(not(x<3 or x <8))"
      ],
      "metadata": {
        "colab": {
          "base_uri": "https://localhost:8080/"
        },
        "id": "Rfq7yURTzAqk",
        "outputId": "d00c8c16-8ce2-4164-fadf-cbb31934abe8"
      },
      "execution_count": null,
      "outputs": [
        {
          "output_type": "stream",
          "name": "stdout",
          "text": [
            "False\n"
          ]
        }
      ]
    },
    {
      "cell_type": "code",
      "source": [
        "True(1) and (&) True= True\n",
        "True and False(0)   = False\n",
        "False and True = False\n",
        "False and False = False\n",
        "\n",
        "\n",
        "\n",
        "\n",
        "True or  True= True\n",
        "True or False   = True\n",
        "False or True = True\n",
        "False or False = False\n",
        "\n",
        "\n",
        "\n",
        "not(True) = False\n",
        "not (False) = True"
      ],
      "metadata": {
        "id": "Hfs_cFZYwvj-"
      },
      "execution_count": null,
      "outputs": []
    },
    {
      "cell_type": "code",
      "source": [
        "#and ,or , not , XOR"
      ],
      "metadata": {
        "id": "J1krHXu5DzSW"
      },
      "execution_count": null,
      "outputs": []
    },
    {
      "cell_type": "code",
      "source": [
        "1 ^ 1 = 0\n",
        "1 | 0 = 1\n",
        "0|0 = 0"
      ],
      "metadata": {
        "id": "Vl3qan3TDzpB"
      },
      "execution_count": null,
      "outputs": []
    },
    {
      "cell_type": "code",
      "source": [
        "# identity operator :  1. is     2. is not\n",
        "\n",
        "x = [\"class\",\"test\"]\n",
        "y = [\"class\",\"test\"]\n",
        "z = x \n",
        "\n",
        "x is y"
      ],
      "metadata": {
        "colab": {
          "base_uri": "https://localhost:8080/"
        },
        "id": "jeiObGKQD0PQ",
        "outputId": "2cde2a6c-c15b-420e-a148-8906357d2cda"
      },
      "execution_count": null,
      "outputs": [
        {
          "output_type": "execute_result",
          "data": {
            "text/plain": [
              "False"
            ]
          },
          "metadata": {},
          "execution_count": 18
        }
      ]
    },
    {
      "cell_type": "code",
      "source": [
        "x = ['a','b']\n",
        "y= ['a','b']\n",
        "z = x\n",
        "x is z"
      ],
      "metadata": {
        "colab": {
          "base_uri": "https://localhost:8080/"
        },
        "id": "5Wh2eA3PFhCH",
        "outputId": "5f31f62c-9a0e-41fa-bc3e-676e92ac5b50"
      },
      "execution_count": null,
      "outputs": [
        {
          "output_type": "execute_result",
          "data": {
            "text/plain": [
              "True"
            ]
          },
          "metadata": {},
          "execution_count": 14
        }
      ]
    },
    {
      "cell_type": "code",
      "source": [
        "a=[8] \n",
        "b= [8]\n",
        "a is not b"
      ],
      "metadata": {
        "colab": {
          "base_uri": "https://localhost:8080/"
        },
        "id": "db_k6Qd4GbbB",
        "outputId": "bc08543e-0995-4239-aff3-410c6999e1af"
      },
      "execution_count": null,
      "outputs": [
        {
          "output_type": "execute_result",
          "data": {
            "text/plain": [
              "True"
            ]
          },
          "metadata": {},
          "execution_count": 24
        }
      ]
    },
    {
      "cell_type": "code",
      "source": [
        "# membership operators\n",
        "x = [4,745,3,4,23]\n",
        "\n",
        "4 in x"
      ],
      "metadata": {
        "colab": {
          "base_uri": "https://localhost:8080/"
        },
        "id": "pmjBbit6HPVO",
        "outputId": "b1f2b866-17dc-4806-e854-b4222ff7f5e3"
      },
      "execution_count": null,
      "outputs": [
        {
          "output_type": "execute_result",
          "data": {
            "text/plain": [
              "True"
            ]
          },
          "metadata": {},
          "execution_count": 27
        }
      ]
    },
    {
      "cell_type": "code",
      "source": [],
      "metadata": {
        "id": "iVehs5XDNAqk"
      },
      "execution_count": null,
      "outputs": []
    },
    {
      "cell_type": "code",
      "source": [],
      "metadata": {
        "id": "5eGVXN_QNAyq"
      },
      "execution_count": null,
      "outputs": []
    },
    {
      "cell_type": "code",
      "source": [
        "54  in x"
      ],
      "metadata": {
        "colab": {
          "base_uri": "https://localhost:8080/"
        },
        "id": "SpXod4YXJv_J",
        "outputId": "d97d42db-10fa-4eb9-a0f4-59dad3b1c2fc"
      },
      "execution_count": null,
      "outputs": [
        {
          "output_type": "execute_result",
          "data": {
            "text/plain": [
              "False"
            ]
          },
          "metadata": {},
          "execution_count": 26
        }
      ]
    },
    {
      "cell_type": "code",
      "source": [
        "A = ['a','b','c',\"d\",\"e\",12,45,76]\n",
        "'a' in A          \n"
      ],
      "metadata": {
        "colab": {
          "base_uri": "https://localhost:8080/"
        },
        "id": "q2LkVOaTJ_tu",
        "outputId": "08d92eab-e0af-4e7a-b308-8d77b7dad2ff"
      },
      "execution_count": null,
      "outputs": [
        {
          "output_type": "execute_result",
          "data": {
            "text/plain": [
              "True"
            ]
          },
          "metadata": {},
          "execution_count": 30
        }
      ]
    },
    {
      "cell_type": "code",
      "source": [],
      "metadata": {
        "id": "oI3bLn_wNodx"
      },
      "execution_count": null,
      "outputs": []
    },
    {
      "cell_type": "code",
      "source": [],
      "metadata": {
        "id": "GAR_s-1UNvHu"
      },
      "execution_count": null,
      "outputs": []
    },
    {
      "cell_type": "code",
      "source": [
        "A and B"
      ],
      "metadata": {
        "id": "JEZly4orNwWY"
      },
      "execution_count": null,
      "outputs": []
    },
    {
      "cell_type": "code",
      "source": [
        "# bitwise operators : and(&) , or (|), XOR(^),NOT(~)   <<( ZERO FILL LEFT SHIFT      >>(SIGNED RIGHT SHIFT)"
      ],
      "metadata": {
        "id": "x6Sk74fMNCdf"
      },
      "execution_count": null,
      "outputs": []
    },
    {
      "cell_type": "code",
      "source": [],
      "metadata": {
        "id": "tEKlwPdWNCks"
      },
      "execution_count": null,
      "outputs": []
    },
    {
      "cell_type": "code",
      "source": [],
      "metadata": {
        "id": "SLzrZ6qBNCq4"
      },
      "execution_count": null,
      "outputs": []
    },
    {
      "cell_type": "code",
      "source": [],
      "metadata": {
        "id": "tsAEhaj9NCzO"
      },
      "execution_count": null,
      "outputs": []
    }
  ]
}