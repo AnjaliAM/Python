{
  "nbformat": 4,
  "nbformat_minor": 0,
  "metadata": {
    "colab": {
      "provenance": [],
      "authorship_tag": "ABX9TyPbet56pxNnzocEg1nxUNMP",
      "include_colab_link": true
    },
    "kernelspec": {
      "name": "python3",
      "display_name": "Python 3"
    },
    "language_info": {
      "name": "python"
    }
  },
  "cells": [
    {
      "cell_type": "markdown",
      "metadata": {
        "id": "view-in-github",
        "colab_type": "text"
      },
      "source": [
        "<a href=\"https://colab.research.google.com/github/AnjaliAM/Python/blob/main/strings_and_escape_characterrs_ipynb.ipynb\" target=\"_parent\"><img src=\"https://colab.research.google.com/assets/colab-badge.svg\" alt=\"Open In Colab\"/></a>"
      ]
    },
    {
      "cell_type": "code",
      "execution_count": null,
      "metadata": {
        "id": "CW3EhFWZp7Fg"
      },
      "outputs": [],
      "source": [
        "#\n",
        "##\n",
        "# anjalimalik54321@gmail.com\n",
        "#"
      ]
    },
    {
      "cell_type": "markdown",
      "source": [
        "##fdh\n",
        "hjg\n",
        "thj\n",
        "hjth\n",
        "t\n",
        "h\n",
        "h\n",
        "fr\n",
        "##ng\n"
      ],
      "metadata": {
        "id": "maEpkSea6e5o"
      }
    },
    {
      "cell_type": "code",
      "source": [
        "'''\n",
        "hjthj\n",
        "jgtj\n",
        "hjgjt\n",
        "hhrhyrhjt\n",
        "jg\n",
        "mghj\n",
        "tjh\n",
        "\n",
        "'''"
      ],
      "metadata": {
        "colab": {
          "base_uri": "https://localhost:8080/",
          "height": 36
        },
        "id": "Wg2kcW-J6uQJ",
        "outputId": "7198708f-dde6-4e29-ec20-cd17180e016d"
      },
      "execution_count": null,
      "outputs": [
        {
          "output_type": "execute_result",
          "data": {
            "text/plain": [
              "'\\nhjthj\\njgtj\\nhjgjt\\nhhrhyrhjt\\njg\\nmghj\\ntjh\\n'"
            ],
            "application/vnd.google.colaboratory.intrinsic+json": {
              "type": "string"
            }
          },
          "metadata": {},
          "execution_count": 1
        }
      ]
    },
    {
      "cell_type": "code",
      "source": [
        "\"hrg\""
      ],
      "metadata": {
        "id": "trQ4nYgM6uWu"
      },
      "execution_count": null,
      "outputs": []
    },
    {
      "cell_type": "code",
      "source": [
        "A ='hfhgeijgkefjfierjfivfj jioeeio'\n"
      ],
      "metadata": {
        "id": "ijBaYa1X6ug2"
      },
      "execution_count": null,
      "outputs": []
    },
    {
      "cell_type": "code",
      "source": [
        "B = A[3:9:3]"
      ],
      "metadata": {
        "id": "L49FJ3-VdOEe"
      },
      "execution_count": null,
      "outputs": []
    },
    {
      "cell_type": "code",
      "source": [
        "B"
      ],
      "metadata": {
        "colab": {
          "base_uri": "https://localhost:8080/",
          "height": 36
        },
        "id": "B0fJOx4Kdahx",
        "outputId": "bf38a133-391f-4a01-a849-e0b4064b7462"
      },
      "execution_count": null,
      "outputs": [
        {
          "output_type": "execute_result",
          "data": {
            "text/plain": [
              "'gj'"
            ],
            "application/vnd.google.colaboratory.intrinsic+json": {
              "type": "string"
            }
          },
          "metadata": {},
          "execution_count": 5
        }
      ]
    },
    {
      "cell_type": "code",
      "source": [
        "# string slicing:\n",
        "'''indexing\n",
        "negative indexing\n",
        "slicing from starting  [: ending,step size]\n",
        "slicing from ending \n",
        "'''\n",
        "\n"
      ],
      "metadata": {
        "id": "3I96gw81bkES"
      },
      "execution_count": null,
      "outputs": []
    },
    {
      "cell_type": "code",
      "source": [
        "#string modofication:\n",
        "# Uppercase conversion:\n",
        "a = \"kgjerjkgmev,ermnifgjif Anvjrejnvjker \"\n",
        "a = a.upper()   # upper is a keyword\n",
        "\n",
        "# lower case conversion:\n",
        "a = a.lower()\n",
        "print(a)\n",
        "\n",
        "# remove whitespace:\n",
        "b=\"   fjibnerinbeigvn    rjgir    bnofkib       \"\n",
        "b = b.strip()     # string is stripped.\n",
        "\n",
        "\n",
        "# replace :\n",
        "b\n",
        "b.replace(\"i\",\"g\")   # i is replaced with g\n",
        "\n"
      ],
      "metadata": {
        "colab": {
          "base_uri": "https://localhost:8080/",
          "height": 54
        },
        "id": "dvpymZiqbfAC",
        "outputId": "664c38c0-67f6-4a34-f220-adce42499fcd"
      },
      "execution_count": null,
      "outputs": [
        {
          "output_type": "stream",
          "name": "stdout",
          "text": [
            "kgjerjkgmev,ermnifgjif anvjrejnvjker \n"
          ]
        },
        {
          "output_type": "execute_result",
          "data": {
            "text/plain": [
              "'fjgbnergnbeggvn    rjggr    bnofkgb'"
            ],
            "application/vnd.google.colaboratory.intrinsic+json": {
              "type": "string"
            }
          },
          "metadata": {},
          "execution_count": 17
        }
      ]
    },
    {
      "cell_type": "code",
      "source": [
        "# splitting a string : split()\n",
        "V = \" this, is ,good ,what, about, that\"   \n",
        "V= print(V.split(\",\"))"
      ],
      "metadata": {
        "colab": {
          "base_uri": "https://localhost:8080/"
        },
        "id": "sd1A5FDTf-q8",
        "outputId": "ad89f062-df0f-4770-d8b7-b35e2bdd18e8"
      },
      "execution_count": null,
      "outputs": [
        {
          "output_type": "stream",
          "name": "stdout",
          "text": [
            "[' this', ' is ', 'good ', 'what', ' about', ' that']\n"
          ]
        }
      ]
    },
    {
      "cell_type": "code",
      "source": [
        "# string concatention: to concatenate,to combine,using + oprator joining two strings.\n",
        "A = \"apple\"\n",
        "B = \" pen \"\n",
        "D= \"fbjkre\"\n",
        "C= print( A+B+D)\n",
        " \n",
        "\n"
      ],
      "metadata": {
        "colab": {
          "base_uri": "https://localhost:8080/"
        },
        "id": "bMNnYlSKbfOi",
        "outputId": "6f32e2cb-0040-40fe-8148-e1d6d58bb98e"
      },
      "execution_count": null,
      "outputs": [
        {
          "output_type": "stream",
          "name": "stdout",
          "text": [
            "apple pen fbjkre\n"
          ]
        }
      ]
    },
    {
      "cell_type": "code",
      "source": [
        "# python -format- strings:\n",
        "\n",
        "\"anjali \"+ str(34)"
      ],
      "metadata": {
        "colab": {
          "base_uri": "https://localhost:8080/",
          "height": 36
        },
        "id": "k5BlPEGubpcl",
        "outputId": "a2cd43ac-e0af-4513-e45a-d551bbded7af"
      },
      "execution_count": null,
      "outputs": [
        {
          "output_type": "execute_result",
          "data": {
            "text/plain": [
              "'anjali 34'"
            ],
            "application/vnd.google.colaboratory.intrinsic+json": {
              "type": "string"
            }
          },
          "metadata": {},
          "execution_count": 46
        }
      ]
    },
    {
      "cell_type": "code",
      "source": [
        "age =36\n",
        "txt = \" vmrkgre gfre ef rff erf\"\n",
        "print(str(age)+ txt)  # typecasting"
      ],
      "metadata": {
        "colab": {
          "base_uri": "https://localhost:8080/"
        },
        "id": "Z53KBJLnmPoA",
        "outputId": "c76a9e7f-3fb1-48f7-c8c9-1e0ff50f0cc8"
      },
      "execution_count": null,
      "outputs": [
        {
          "output_type": "stream",
          "name": "stdout",
          "text": [
            "36 vmrkgre gfre ef rff erf\n"
          ]
        }
      ]
    },
    {
      "cell_type": "code",
      "source": [
        "# .format() method: combine strings and numbers.\n",
        "# format() takes the passed argument ,format, and then place them in the string  where the placeholders {} are\n",
        "\n",
        "age = 36 \n",
        " \n",
        "txt =  \"this is great{}\"\n",
        "\n",
        "print(txt.format(age))\n"
      ],
      "metadata": {
        "id": "ForsfeCqkYa1",
        "colab": {
          "base_uri": "https://localhost:8080/"
        },
        "outputId": "ab9525ff-0c3c-42a6-f399-cbf2d0327c0f"
      },
      "execution_count": null,
      "outputs": [
        {
          "output_type": "stream",
          "name": "stdout",
          "text": [
            "this is great36\n"
          ]
        }
      ]
    },
    {
      "cell_type": "code",
      "source": [
        "a = 3\n",
        "b = 3211\n",
        "c= 32\n",
        "myorder = \"i want {} pieces of apples {} and {} dollars\"\n",
        "print(myorder.format(b,c,a))"
      ],
      "metadata": {
        "colab": {
          "base_uri": "https://localhost:8080/"
        },
        "id": "Em0P9ULIpT8Z",
        "outputId": "18d81fee-634a-41f2-ed7a-f2ec8903a6fc"
      },
      "execution_count": null,
      "outputs": [
        {
          "output_type": "stream",
          "name": "stdout",
          "text": [
            "i want 3211 pieces of apples 32 and 3 dollars\n"
          ]
        }
      ]
    },
    {
      "cell_type": "code",
      "source": [
        "a = 3\n",
        "b = 3211\n",
        "c= 32\n",
        "myorder = \"i want {2} pieces of apples {0} and {1} dollars\"\n",
        "print(myorder.format(a,b,c))"
      ],
      "metadata": {
        "colab": {
          "base_uri": "https://localhost:8080/"
        },
        "id": "pYOTDD4hqYgM",
        "outputId": "44b18b6a-f975-43de-b3e2-df23f46aad78"
      },
      "execution_count": null,
      "outputs": [
        {
          "output_type": "stream",
          "name": "stdout",
          "text": [
            "i want 32 pieces of apples 3 and 3211 dollars\n"
          ]
        }
      ]
    },
    {
      "cell_type": "code",
      "source": [
        "# (1,3,43,54,5,\"fe'')  # touple\n",
        "\n",
        "# [\"fgf\" tgft\",mj,j] # list\n",
        "\n",
        "# {\"ef\":2,\"wd\":3}   # disctionary"
      ],
      "metadata": {
        "id": "sCg6E3ZRqYxB",
        "colab": {
          "base_uri": "https://localhost:8080/",
          "height": 135
        },
        "outputId": "c5fc0d96-f2b8-4e04-b271-286798c9555a"
      },
      "execution_count": null,
      "outputs": [
        {
          "output_type": "error",
          "ename": "SyntaxError",
          "evalue": "ignored",
          "traceback": [
            "\u001b[0;36m  File \u001b[0;32m\"<ipython-input-1-52c8d8460806>\"\u001b[0;36m, line \u001b[0;32m2\u001b[0m\n\u001b[0;31m    [\"fgf\" tgft\",mj,j] # list\u001b[0m\n\u001b[0m           ^\u001b[0m\n\u001b[0;31mSyntaxError\u001b[0m\u001b[0;31m:\u001b[0m invalid syntax\n"
          ]
        }
      ]
    },
    {
      "cell_type": "code",
      "source": [],
      "metadata": {
        "id": "f1HMmXxNpUZk"
      },
      "execution_count": null,
      "outputs": []
    },
    {
      "cell_type": "code",
      "source": [
        "a= 534\n",
        "type(a)\n",
        "\n",
        "a= str(a)\n",
        "type(a)"
      ],
      "metadata": {
        "colab": {
          "base_uri": "https://localhost:8080/"
        },
        "id": "KPi6bbsSiJtR",
        "outputId": "ae867135-6305-43a7-a820-8c86152a0287"
      },
      "execution_count": null,
      "outputs": [
        {
          "output_type": "execute_result",
          "data": {
            "text/plain": [
              "str"
            ]
          },
          "metadata": {},
          "execution_count": 42
        }
      ]
    },
    {
      "cell_type": "code",
      "source": [
        "s = 42\n",
        "type(a)"
      ],
      "metadata": {
        "colab": {
          "base_uri": "https://localhost:8080/"
        },
        "id": "TG9orl6Vj4w8",
        "outputId": "026c23f7-e11f-442c-d674-d54d8469fa5f"
      },
      "execution_count": null,
      "outputs": [
        {
          "output_type": "execute_result",
          "data": {
            "text/plain": [
              "str"
            ]
          },
          "metadata": {},
          "execution_count": 43
        }
      ]
    },
    {
      "cell_type": "code",
      "source": [
        "str(s)"
      ],
      "metadata": {
        "colab": {
          "base_uri": "https://localhost:8080/",
          "height": 36
        },
        "id": "Ce2IeWJhj46R",
        "outputId": "6b8df17a-c979-42aa-e882-ed6064178120"
      },
      "execution_count": null,
      "outputs": [
        {
          "output_type": "execute_result",
          "data": {
            "text/plain": [
              "'42'"
            ],
            "application/vnd.google.colaboratory.intrinsic+json": {
              "type": "string"
            }
          },
          "metadata": {},
          "execution_count": 44
        }
      ]
    },
    {
      "cell_type": "code",
      "source": [
        "age = 13\n",
        "weight = 57\n",
        "a=4\n",
        "df=4\n",
        "txt= \"my age is {1} , my weight is {0}\"\n",
        "print(txt.format(weight, age)) # it will take age and weight as input now format it and print it inside the curly braces \n",
        " "
      ],
      "metadata": {
        "colab": {
          "base_uri": "https://localhost:8080/"
        },
        "id": "t4BjPwlIw-j8",
        "outputId": "0ba380de-7146-4ac5-8845-ecd58da3e7ab"
      },
      "execution_count": null,
      "outputs": [
        {
          "output_type": "stream",
          "name": "stdout",
          "text": [
            "my age is 13 , my weight is 57\n"
          ]
        }
      ]
    },
    {
      "cell_type": "code",
      "source": [
        "# escape character: to insert that are illigal in a string , use an escape character. \n",
        "# An escape character is \\( backslash) followed by the character you want to insert.\n",
        "'''this is written by \" goral\" and its really good'''"
      ],
      "metadata": {
        "colab": {
          "base_uri": "https://localhost:8080/",
          "height": 36
        },
        "id": "EsmUVMMqw-2N",
        "outputId": "79a629bf-3e02-46e7-d07b-3e253705af9d"
      },
      "execution_count": null,
      "outputs": [
        {
          "output_type": "execute_result",
          "data": {
            "text/plain": [
              "'this is written by \" goral\" and its really good'"
            ],
            "application/vnd.google.colaboratory.intrinsic+json": {
              "type": "string"
            }
          },
          "metadata": {},
          "execution_count": 21
        }
      ]
    },
    {
      "cell_type": "code",
      "source": [
        "# some of the escape the escape characters are\n",
        "#  \\\"     double quote\n",
        "\n",
        "# \\'     single quote\n",
        "\n",
        "#\\'''    triple  quote\n",
        "\n",
        "# \\\\      \"this is an example \\\\ of escape character\"\n",
        "\n",
        "# \\n     new line character\n",
        "\n",
        "txt = \"hello\\nWorld!\\n\\ngood\"\n",
        "print(txt)\n",
        "\n",
        "# \\t     Tab\n",
        "\n",
        "txt = \"hello\\t\\t\\tWorld!\\tgood\"\n",
        "print(txt)\n",
        "\n",
        "\n",
        "#  \\b    Backspace\n",
        "\n",
        "txt = \"    hello  \\b \\b\\bWorld!  \\b\\bgood      \"\n",
        "print(txt)\n",
        "txt.strip()\n",
        "\n",
        "#  \\f   form feed:\n",
        "\n",
        "\n",
        "\n",
        "# \\ooo   Octal value\n",
        "\"A backslash followed by three integers will results in octal value    \"\n",
        "\n",
        "txt = \"\\110\\145\\154\\154\\152\"\n",
        "print(txt)\n",
        "\n",
        "#  \\xhh  Hex value\n",
        "txt = \"\\x48\\x65\\x6c\\x6c\\x6f\"\n",
        "print(txt)\n",
        "\n",
        "\n",
        " "
      ],
      "metadata": {
        "colab": {
          "base_uri": "https://localhost:8080/"
        },
        "id": "KT-R_6r8w_J2",
        "outputId": "867718de-10b7-4202-c053-dc7d85c4df11"
      },
      "execution_count": null,
      "outputs": [
        {
          "output_type": "stream",
          "name": "stdout",
          "text": [
            "hello\n",
            "World!\n",
            "\n",
            "good\n",
            "hello\t\t\tWorld!\tgood\n",
            "    hello  \b \b\bWorld!  \b\bgood      \n",
            "Hellj\n",
            "Hello\n"
          ]
        }
      ]
    },
    {
      "cell_type": "code",
      "source": [
        "'''\n",
        " this is good\"\n",
        "'''"
      ],
      "metadata": {
        "colab": {
          "base_uri": "https://localhost:8080/",
          "height": 36
        },
        "id": "jyaYWvY-4CaP",
        "outputId": "af61df78-bac4-4e40-c7d3-fd42244c6ede"
      },
      "execution_count": null,
      "outputs": [
        {
          "output_type": "execute_result",
          "data": {
            "text/plain": [
              "'\\n this\\tis\\tgood\"\\n'"
            ],
            "application/vnd.google.colaboratory.intrinsic+json": {
              "type": "string"
            }
          },
          "metadata": {},
          "execution_count": 20
        }
      ]
    },
    {
      "cell_type": "code",
      "source": [
        "oct(2)"
      ],
      "metadata": {
        "id": "5CCFAyuKHag5",
        "colab": {
          "base_uri": "https://localhost:8080/",
          "height": 36
        },
        "outputId": "b21d54c9-e266-4d00-d1e4-9e50f03737f8"
      },
      "execution_count": null,
      "outputs": [
        {
          "output_type": "execute_result",
          "data": {
            "text/plain": [
              "'0o2'"
            ],
            "application/vnd.google.colaboratory.intrinsic+json": {
              "type": "string"
            }
          },
          "metadata": {},
          "execution_count": 10
        }
      ]
    },
    {
      "cell_type": "code",
      "source": [
        "from posixpath import join\n",
        "from IPython.core.application import IPYTHON_SUPPRESS_CONFIG_ERRORS\n",
        "from traitlets.traitlets import isidentifier\n",
        "# Python string methods:\n",
        "# name of the methods                      # description\n",
        "\n",
        "#1. capitalize()                           converts the character to upper case.\n",
        "# example:\n",
        "str = \"this is string method 1. \"\n",
        "(str.capitalize())\n",
        "\n",
        "#2. casefold()                             converts string into lower case.\n",
        "\n",
        "str.casefold()\n",
        "\n",
        "\n",
        "#3. center()                               returns a centred string.\n",
        "#4 count()                                  returns the number of times a specified value occuurs in a string.\n",
        "#5 encode()                                encoding version of string\n",
        "#6 endswith()                              true/false\n",
        "#7 expandtabs()                           set the tab size\n",
        "#8 find()                                  position of searched string\n",
        "#9 format()                               format a specified value\n",
        "# 10 index()                          give the position of searched string\n",
        "\n",
        "#11   isdigit()                        True/False  \" 645464565\",\"hrth  g \"\n",
        "# isdecimal         Return True  is all characters in string are decimal                                                \n",
        "isidentifier\n",
        "islower\n",
        "isnumeric\n",
        "isprintable\n",
        "isupper\n",
        "istitle\n",
        "join\n",
        "lower\n",
        "Lstrip\n",
        "Rstrip\n",
        "replace\n",
        "rfind\n",
        "split\n",
        "startswith\n",
        "Upper\n",
        "print(str.upper())"
      ],
      "metadata": {
        "id": "I7UME2Y0Harx",
        "colab": {
          "base_uri": "https://localhost:8080/"
        },
        "outputId": "77c78261-2fa4-4d65-bc7b-e95ed074d882"
      },
      "execution_count": null,
      "outputs": [
        {
          "output_type": "stream",
          "name": "stdout",
          "text": [
            "THIS IS STRING METHOD 1. \n"
          ]
        }
      ]
    },
    {
      "cell_type": "code",
      "source": [
        "## boolean values:\n",
        "# If you run a condition or a statement python returns true or false which are boolean value."
      ],
      "metadata": {
        "id": "T_EqIpu1iXFQ"
      },
      "execution_count": null,
      "outputs": []
    },
    {
      "cell_type": "code",
      "source": [
        "A = True"
      ],
      "metadata": {
        "id": "9Gypa3jTiXR8"
      },
      "execution_count": null,
      "outputs": []
    },
    {
      "cell_type": "code",
      "source": [
        "type(True)"
      ],
      "metadata": {
        "id": "InGbAubnHa0p",
        "colab": {
          "base_uri": "https://localhost:8080/"
        },
        "outputId": "07bf789e-4444-4e5c-eec8-3d3df1d53dc0"
      },
      "execution_count": null,
      "outputs": [
        {
          "output_type": "execute_result",
          "data": {
            "text/plain": [
              "bool"
            ]
          },
          "metadata": {},
          "execution_count": 3
        }
      ]
    },
    {
      "cell_type": "code",
      "source": [
        "# comparing of numbers:\n",
        "print(10 > 9)"
      ],
      "metadata": {
        "colab": {
          "base_uri": "https://localhost:8080/"
        },
        "id": "P9SuPAm-i_nd",
        "outputId": "d9987d45-8a25-4921-bda7-45f0660b0629"
      },
      "execution_count": null,
      "outputs": [
        {
          "output_type": "stream",
          "name": "stdout",
          "text": [
            "True\n"
          ]
        }
      ]
    },
    {
      "cell_type": "code",
      "source": [
        "10 == 9"
      ],
      "metadata": {
        "colab": {
          "base_uri": "https://localhost:8080/"
        },
        "id": "GSq7piG5jgxI",
        "outputId": "2e28ca1e-af9b-42dd-e303-c6cbd3b43c0b"
      },
      "execution_count": null,
      "outputs": [
        {
          "output_type": "execute_result",
          "data": {
            "text/plain": [
              "False"
            ]
          },
          "metadata": {},
          "execution_count": 6
        }
      ]
    },
    {
      "cell_type": "code",
      "source": [
        "if:\n",
        "10 < 9  "
      ],
      "metadata": {
        "colab": {
          "base_uri": "https://localhost:8080/"
        },
        "id": "XyxkmT9Sjna1",
        "outputId": "6f9154b2-3b13-40d2-e719-bddf681d6644"
      },
      "execution_count": null,
      "outputs": [
        {
          "output_type": "execute_result",
          "data": {
            "text/plain": [
              "False"
            ]
          },
          "metadata": {},
          "execution_count": 7
        }
      ]
    },
    {
      "cell_type": "code",
      "source": [
        " # print a message based on wheather the condition is True or False.\n",
        "\n",
        "a = 200\n",
        "b= 33\n",
        "\n",
        "if b > a:\n",
        "    print(\"b is greater than a\")\n",
        " else:\n",
        "   print(\" b is not greater than a\")"
      ],
      "metadata": {
        "colab": {
          "base_uri": "https://localhost:8080/"
        },
        "id": "6LUV1rGojnoQ",
        "outputId": "b4bddab4-e904-4b48-cb8a-369a73814129"
      },
      "execution_count": null,
      "outputs": [
        {
          "output_type": "stream",
          "name": "stdout",
          "text": [
            " b is not greater than a\n"
          ]
        }
      ]
    },
    {
      "cell_type": "code",
      "source": [
        "c = 65\n",
        "n= 89"
      ],
      "metadata": {
        "id": "jdpZd7P3mFB1"
      },
      "execution_count": null,
      "outputs": []
    },
    {
      "cell_type": "code",
      "source": [
        "c = 56\n",
        "n = 99\n",
        "\n",
        "if c > n:\n",
        "  print(\" c is greater than n\")\n",
        "else:\n",
        "  print(\"n is greater than c\")"
      ],
      "metadata": {
        "colab": {
          "base_uri": "https://localhost:8080/"
        },
        "id": "LVc9zMxtmFlX",
        "outputId": "a200d2f1-f316-4615-dd72-481acf2c478f"
      },
      "execution_count": null,
      "outputs": [
        {
          "output_type": "stream",
          "name": "stdout",
          "text": [
            "n is greater than c\n"
          ]
        }
      ]
    },
    {
      "cell_type": "code",
      "source": [
        "'''example\n",
        "1. declare a variable name X assign it 54\n",
        "2. -------do---------------y assign it 44\n",
        "3. use if and else and check if X is equal to Y or not'''\n",
        "X = 54\n",
        "Y= 44\n",
        "\n",
        "if X == Y:\n",
        "  print(\"y is the same as x\")\n",
        "\n",
        "else:\n",
        "  print(\"y is not the same as x.\")"
      ],
      "metadata": {
        "id": "YcVtr4yynH8A"
      },
      "execution_count": null,
      "outputs": []
    },
    {
      "cell_type": "code",
      "source": [
        "# bool(): evaluate any value and it will give True/False\n",
        "bool(\"hello\")"
      ],
      "metadata": {
        "colab": {
          "base_uri": "https://localhost:8080/"
        },
        "id": "hG1SOhkInIHW",
        "outputId": "b3144e12-6165-45cc-a5e0-951a59d89e95"
      },
      "execution_count": null,
      "outputs": [
        {
          "output_type": "execute_result",
          "data": {
            "text/plain": [
              "True"
            ]
          },
          "metadata": {},
          "execution_count": 20
        }
      ]
    },
    {
      "cell_type": "code",
      "source": [
        "bool(15)"
      ],
      "metadata": {
        "colab": {
          "base_uri": "https://localhost:8080/"
        },
        "id": "UpYgtd1wqS6y",
        "outputId": "7f64a0b8-c208-42d9-937a-f94ca5a22ca7"
      },
      "execution_count": null,
      "outputs": [
        {
          "output_type": "execute_result",
          "data": {
            "text/plain": [
              "True"
            ]
          },
          "metadata": {},
          "execution_count": 22
        }
      ]
    },
    {
      "cell_type": "code",
      "source": [
        "x= \"hello\"\n",
        "y = 15\n",
        "\n",
        "print(bool(x))\n",
        "print(bool(y))\n"
      ],
      "metadata": {
        "colab": {
          "base_uri": "https://localhost:8080/"
        },
        "id": "cXvIHhscqTE5",
        "outputId": "8a04695e-d13c-40bf-d912-02b6fe93fd88"
      },
      "execution_count": null,
      "outputs": [
        {
          "output_type": "stream",
          "name": "stdout",
          "text": [
            "True\n",
            "True\n"
          ]
        }
      ]
    },
    {
      "cell_type": "code",
      "source": [
        "'''\n",
        "NOTE: Almost any value is evaluated as true .\n",
        "FAlse: empty, or 0 string_at,[],(),{}\n",
        "'''"
      ],
      "metadata": {
        "id": "0-jgRd81q-eA"
      },
      "execution_count": null,
      "outputs": []
    },
    {
      "cell_type": "code",
      "source": [
        "bool(\"abgfd h hc\")"
      ],
      "metadata": {
        "colab": {
          "base_uri": "https://localhost:8080/"
        },
        "id": "Amr419xvq-sl",
        "outputId": "c3b6f649-3ad0-49cf-f96b-290638277195"
      },
      "execution_count": null,
      "outputs": [
        {
          "output_type": "execute_result",
          "data": {
            "text/plain": [
              "True"
            ]
          },
          "metadata": {},
          "execution_count": 24
        }
      ]
    },
    {
      "cell_type": "code",
      "source": [
        "bool(123)"
      ],
      "metadata": {
        "colab": {
          "base_uri": "https://localhost:8080/"
        },
        "id": "fG06lohVq-36",
        "outputId": "8aa3f3dd-c6a5-4049-fdbf-4b6bd6055dca"
      },
      "execution_count": null,
      "outputs": [
        {
          "output_type": "execute_result",
          "data": {
            "text/plain": [
              "True"
            ]
          },
          "metadata": {},
          "execution_count": 25
        }
      ]
    },
    {
      "cell_type": "code",
      "source": [
        "bool([\"Aa\",\"bb\"])"
      ],
      "metadata": {
        "colab": {
          "base_uri": "https://localhost:8080/"
        },
        "id": "bfdFMRW4q_Oy",
        "outputId": "0d030da3-923a-4e12-de6a-4752444cdc7f"
      },
      "execution_count": null,
      "outputs": [
        {
          "output_type": "execute_result",
          "data": {
            "text/plain": [
              "True"
            ]
          },
          "metadata": {},
          "execution_count": 27
        }
      ]
    },
    {
      "cell_type": "code",
      "source": [
        "# False value:\n",
        "bool(False)"
      ],
      "metadata": {
        "colab": {
          "base_uri": "https://localhost:8080/"
        },
        "id": "CXqxJVcurw-Y",
        "outputId": "7913bbe7-5211-437e-8427-0bb858e5048e"
      },
      "execution_count": null,
      "outputs": [
        {
          "output_type": "execute_result",
          "data": {
            "text/plain": [
              "False"
            ]
          },
          "metadata": {},
          "execution_count": 28
        }
      ]
    },
    {
      "cell_type": "code",
      "source": [
        "bool(None)"
      ],
      "metadata": {
        "colab": {
          "base_uri": "https://localhost:8080/"
        },
        "id": "yB66jJ6xr35t",
        "outputId": "e91dca83-4cfe-45ff-f621-b50e2bfc6654"
      },
      "execution_count": null,
      "outputs": [
        {
          "output_type": "execute_result",
          "data": {
            "text/plain": [
              "False"
            ]
          },
          "metadata": {},
          "execution_count": 31
        }
      ]
    },
    {
      "cell_type": "code",
      "source": [
        "bool(0)"
      ],
      "metadata": {
        "colab": {
          "base_uri": "https://localhost:8080/"
        },
        "id": "GLKQzVNFr6wr",
        "outputId": "7128f929-7727-48ef-d46b-b8d9b3d40085"
      },
      "execution_count": null,
      "outputs": [
        {
          "output_type": "execute_result",
          "data": {
            "text/plain": [
              "False"
            ]
          },
          "metadata": {},
          "execution_count": 32
        }
      ]
    },
    {
      "cell_type": "code",
      "source": [
        "bool(\"\")   # emplty string"
      ],
      "metadata": {
        "colab": {
          "base_uri": "https://localhost:8080/"
        },
        "id": "K7w6-UFcr_MW",
        "outputId": "528f3ffd-05a8-454d-9b86-69efd8e1ec6f"
      },
      "execution_count": null,
      "outputs": [
        {
          "output_type": "execute_result",
          "data": {
            "text/plain": [
              "False"
            ]
          },
          "metadata": {},
          "execution_count": 33
        }
      ]
    },
    {
      "cell_type": "code",
      "source": [
        "bool(())    # empty touple"
      ],
      "metadata": {
        "colab": {
          "base_uri": "https://localhost:8080/"
        },
        "id": "Dfm-raVBsEej",
        "outputId": "47417781-4619-43ab-8234-fa7d7fda6d35"
      },
      "execution_count": null,
      "outputs": [
        {
          "output_type": "execute_result",
          "data": {
            "text/plain": [
              "False"
            ]
          },
          "metadata": {},
          "execution_count": 34
        }
      ]
    },
    {
      "cell_type": "code",
      "source": [
        "bool([])      # empty  list"
      ],
      "metadata": {
        "colab": {
          "base_uri": "https://localhost:8080/"
        },
        "id": "_WggF-WjsEsx",
        "outputId": "81f8db70-b9a7-40f8-f21a-a42642dc65eb"
      },
      "execution_count": null,
      "outputs": [
        {
          "output_type": "execute_result",
          "data": {
            "text/plain": [
              "True"
            ]
          },
          "metadata": {},
          "execution_count": 37
        }
      ]
    },
    {
      "cell_type": "code",
      "source": [
        "bool({})   # empty disctionary"
      ],
      "metadata": {
        "colab": {
          "base_uri": "https://localhost:8080/"
        },
        "id": "BiNYxZuQsE5l",
        "outputId": "a5d994cc-c013-41eb-883a-1f9b5d6051e2"
      },
      "execution_count": null,
      "outputs": [
        {
          "output_type": "execute_result",
          "data": {
            "text/plain": [
              "False"
            ]
          },
          "metadata": {},
          "execution_count": 36
        }
      ]
    },
    {
      "cell_type": "code",
      "source": [],
      "metadata": {
        "id": "WExbhGm1sS6v"
      },
      "execution_count": null,
      "outputs": []
    }
  ]
}