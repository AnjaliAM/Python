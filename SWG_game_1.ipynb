{
  "cells": [
    {
      "cell_type": "markdown",
      "metadata": {
        "id": "view-in-github",
        "colab_type": "text"
      },
      "source": [
        "<a href=\"https://colab.research.google.com/github/AnjaliAM/Python/blob/main/SWG_game_1.ipynb\" target=\"_parent\"><img src=\"https://colab.research.google.com/assets/colab-badge.svg\" alt=\"Open In Colab\"/></a>"
      ]
    },
    {
      "cell_type": "code",
      "execution_count": null,
      "metadata": {
        "colab": {
          "base_uri": "https://localhost:8080/"
        },
        "id": "fc28deac",
        "scrolled": true,
        "outputId": "a98963d9-9dc8-4125-d9a2-da5a9754b2a3"
      },
      "outputs": [
        {
          "output_type": "stream",
          "name": "stdout",
          "text": [
            "Snake - Water - Gun\n",
            "Enter number of rounds: 3\n",
            "Round :1\n",
            "Snake - 's'\n",
            "Water - 'w'\n",
            "Gun - 'g'\n",
            "Choose your option: G\n",
            "Invalid input, try again\n",
            "\n",
            "Round :1\n",
            "Snake - 's'\n",
            "Water - 'w'\n",
            "Gun - 'g'\n",
            "Choose your option: g\n",
            "Draw!!\n",
            "\n",
            "Round :2\n",
            "Snake - 's'\n",
            "Water - 'w'\n",
            "Gun - 'g'\n",
            "Choose your option: s\n",
            "Draw!!\n",
            "\n",
            "Round :3\n",
            "Snake - 's'\n",
            "Water - 'w'\n",
            "Gun - 'g'\n",
            "Choose your option: s\n",
            "Draw!!\n",
            "\n",
            "Congratulations!! You Won\n"
          ]
        }
      ],
      "source": [
        "'''\n",
        "Snake vs. Water: Snake drinks the water hence wins.\n",
        "Water vs. Gun: The gun will drown in water, hence a point for water\n",
        "Gun vs. Snake: Gun will kill the snake and win.\n",
        "\n",
        "In situations where both players choose the same object, the result will be a draw.\n",
        "'''\n",
        "\n",
        "\n",
        "\n",
        "\n",
        "\n",
        "import random\n",
        "print('Snake - Water - Gun')\n",
        " \n",
        " \n",
        "# Input no. of rounds\n",
        "n = int(input('Enter number of rounds: '))\n",
        " \n",
        " \n",
        "# List containing Snake(s), Water(w), Gun(g)\n",
        "options = ['s', 'w','G']\n",
        " \n",
        "# Round numbers\n",
        "rounds = 1\n",
        " \n",
        "# Count of computer wins\n",
        "comp_win = 0\n",
        " \n",
        "# Count of player wins\n",
        "user_win = 0\n",
        " \n",
        " \n",
        "# There will be n rounds of game\n",
        "while rounds <= n:\n",
        " \n",
        "    # Display round\n",
        "    print(f\"Round :{rounds}\\nSnake - 's'\\nWater - 'w'\\nGun - 'g'\")\n",
        " \n",
        "    # Exception handling\n",
        "    try:\n",
        "        player = input(\"Choose your option: \")\n",
        "    except EOFError as e:\n",
        "        print(e)\n",
        " \n",
        "    # Control of bad inputs\n",
        "    if player != 's' and player != 'w' and player != 'g':\n",
        "        print(\"Invalid input, try again\\n\")\n",
        "        continue\n",
        " \n",
        "    # random.choice() will randomly choose\n",
        "    # item from list- options\n",
        "    computer = random.choice(options)\n",
        " \n",
        "    # Conditions based on the game rule\n",
        "    if computer == 's':\n",
        "        if player == 'w':\n",
        "            comp_win += 1\n",
        "        elif player == 'g':\n",
        "            user_win += 1\n",
        " \n",
        "    elif computer == 'w':\n",
        "        if player == 'g':\n",
        "            comp_win += 1\n",
        "        elif player == 's':\n",
        "            user_win += 1\n",
        " \n",
        "    elif computer == 'g':\n",
        "        if player == 's':\n",
        "            comp_win += 1\n",
        "        elif player == 'w':\n",
        "            user_win += 1\n",
        " \n",
        "    # Announce winner of every round\n",
        "    if  comp_win:\n",
        "        print(f\"You Won round {rounds}\\n\")\n",
        "    elif comp_win > user_win:\n",
        "        print(f\"Computer Won round {rounds}\\n\")\n",
        "    else:\n",
        "        print(\"Draw!!\\n\")\n",
        " \n",
        "    rounds += 1\n",
        " \n",
        " \n",
        "# Final winner based on the number of wons\n",
        "if user_win > comp_win:\n",
        "    print(\"Congratulations!! You Won\")\n",
        "elif comp_win > user_win:\n",
        "    print(\"You lose!!\")\n",
        "else:\n",
        "    print(\"Match Draw!!\")"
      ],
      "id": "fc28deac"
    },
    {
      "cell_type": "code",
      "execution_count": null,
      "metadata": {
        "id": "9ba2d529",
        "outputId": "3cc3c456-dc66-456e-ca5d-2281925a27e8"
      },
      "outputs": [
        {
          "name": "stdout",
          "output_type": "stream",
          "text": [
            "Snake - Water - Gun\n"
          ]
        }
      ],
      "source": [],
      "id": "9ba2d529"
    },
    {
      "cell_type": "code",
      "execution_count": null,
      "metadata": {
        "id": "03bc0872",
        "outputId": "7312d5d5-e397-404f-e11a-8b42d1911529"
      },
      "outputs": [
        {
          "name": "stdout",
          "output_type": "stream",
          "text": [
            "Note: you may need to restart the kernel to use updated packages.\n"
          ]
        },
        {
          "name": "stderr",
          "output_type": "stream",
          "text": [
            "ERROR: Could not find a version that satisfies the requirement random\n",
            "ERROR: No matching distribution found for random\n"
          ]
        }
      ],
      "source": [],
      "id": "03bc0872"
    },
    {
      "cell_type": "code",
      "execution_count": null,
      "metadata": {
        "id": "d8b69ced"
      },
      "outputs": [],
      "source": [],
      "id": "d8b69ced"
    }
  ],
  "metadata": {
    "colab": {
      "provenance": [],
      "include_colab_link": true
    },
    "kernelspec": {
      "display_name": "Python 3",
      "language": "python",
      "name": "python3"
    },
    "language_info": {
      "codemirror_mode": {
        "name": "ipython",
        "version": 3
      },
      "file_extension": ".py",
      "mimetype": "text/x-python",
      "name": "python",
      "nbconvert_exporter": "python",
      "pygments_lexer": "ipython3",
      "version": "3.8.8"
    }
  },
  "nbformat": 4,
  "nbformat_minor": 5
}