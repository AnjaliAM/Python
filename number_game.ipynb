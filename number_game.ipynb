{
  "nbformat": 4,
  "nbformat_minor": 0,
  "metadata": {
    "colab": {
      "provenance": [],
      "authorship_tag": "ABX9TyNTExZsA4Jnc+R7p1eUFK5C",
      "include_colab_link": true
    },
    "kernelspec": {
      "name": "python3",
      "display_name": "Python 3"
    },
    "language_info": {
      "name": "python"
    }
  },
  "cells": [
    {
      "cell_type": "markdown",
      "metadata": {
        "id": "view-in-github",
        "colab_type": "text"
      },
      "source": [
        "<a href=\"https://colab.research.google.com/github/AnjaliAM/Python/blob/main/number_game.ipynb\" target=\"_parent\"><img src=\"https://colab.research.google.com/assets/colab-badge.svg\" alt=\"Open In Colab\"/></a>"
      ]
    },
    {
      "cell_type": "code",
      "execution_count": null,
      "metadata": {
        "id": "2PV2TA1OTm2_"
      },
      "outputs": [],
      "source": [
        "def user(player):\n",
        "    while True:\n",
        "        try:\n",
        "            choice = int(input(f\"Player {player}, enter your choice (1, 2, or 3): \"))\n",
        "            if choice>=1 and choice<=3:\n",
        "                return choice\n",
        "            else:\n",
        "                print(\"Invalid input. Please enter 1, 2, or 3.\")\n",
        "        except ValueError:\n",
        "            print(\"Invalid input. Please enter a valid number.\")\n",
        "\n",
        "\n",
        "def play():\n",
        "    sum = 0\n",
        "    current_player = 1\n",
        "\n",
        "    print(\"Let's play 21 number game!\")\n",
        "    print(\"The player who reaches 21 first loses.\")\n",
        "    print(\"Each player can choose to count 1, 2, or 3 numbers in their turn.\")\n",
        "\n",
        "    while sum < 21:\n",
        "        print(f\"\\nCurrent number: {sum}\")\n",
        "        choice = user(current_player)\n",
        "        if (choice+sum)>=21:\n",
        "            print(f\"Player {current_player} loses!\")\n",
        "            break\n",
        "        sum += choice\n",
        "\n",
        "        current_player = 3 - current_player\n",
        "\n",
        "play()\n"
      ]
    }
  ]
}